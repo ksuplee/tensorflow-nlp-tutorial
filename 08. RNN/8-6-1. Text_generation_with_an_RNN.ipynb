{
  "nbformat": 4,
  "nbformat_minor": 0,
  "metadata": {
    "colab": {
      "name": "Text generation with an RNN.ipynb",
      "provenance": [],
      "machine_shape": "hm"
    },
    "kernelspec": {
      "name": "python3",
      "display_name": "Python 3"
    },
    "language_info": {
      "name": "python"
    },
    "accelerator": "GPU"
  },
  "cells": [
    {
      "cell_type": "markdown",
      "metadata": {
        "id": "nQfDeXC5GJEs"
      },
      "source": [
        "이 자료는 위키독스 딥 러닝을 이용한 자연어 처리 입문의 RNN을 이용하여 텍스트 생성하기의 튜토리얼입니다.  \n",
        "\n",
        "링크 : https://wikidocs.net/45101"
      ]
    },
    {
      "cell_type": "markdown",
      "metadata": {
        "id": "Ohqrvu9vGMaa"
      },
      "source": [
        "2021년 10월 13일에 테스트되었습니다."
      ]
    },
    {
      "cell_type": "markdown",
      "metadata": {
        "id": "-mwvomP9GHUz"
      },
      "source": [
        "# 1. RNN을 이용하여 텍스트 생성하기"
      ]
    },
    {
      "cell_type": "code",
      "metadata": {
        "id": "S4uTNOaoD1bU"
      },
      "source": [
        "import numpy as np\n",
        "from tensorflow.keras.preprocessing.text import Tokenizer\n",
        "from tensorflow.keras.preprocessing.sequence import pad_sequences\n",
        "from tensorflow.keras.utils import to_categorical"
      ],
      "execution_count": 1,
      "outputs": []
    },
    {
      "cell_type": "code",
      "metadata": {
        "id": "HAiu_PerD3Hf"
      },
      "source": [
        "text = \"\"\"경마장에 있는 말이 뛰고 있다\\n\n",
        "그의 말이 법이다\\n\n",
        "가는 말이 고와야 오는 말이 곱다\\n\"\"\""
      ],
      "execution_count": 2,
      "outputs": []
    },
    {
      "cell_type": "code",
      "metadata": {
        "colab": {
          "base_uri": "https://localhost:8080/"
        },
        "id": "xdHAkPfHD75-",
        "outputId": "91801b1a-1c61-47cc-833a-cffc38957b35"
      },
      "source": [
        "tokenizer = Tokenizer()\n",
        "tokenizer.fit_on_texts([text])\n",
        "vocab_size = len(tokenizer.word_index) + 1\n",
        "print('단어 집합의 크기 : %d' % vocab_size)"
      ],
      "execution_count": 3,
      "outputs": [
        {
          "output_type": "stream",
          "name": "stdout",
          "text": [
            "단어 집합의 크기 : 12\n"
          ]
        }
      ]
    },
    {
      "cell_type": "code",
      "metadata": {
        "colab": {
          "base_uri": "https://localhost:8080/"
        },
        "id": "rjSPtvilD9hO",
        "outputId": "df17ea6f-d396-46cf-832d-f2c8ff388bea"
      },
      "source": [
        "print(tokenizer.word_index)"
      ],
      "execution_count": 4,
      "outputs": [
        {
          "output_type": "stream",
          "name": "stdout",
          "text": [
            "{'말이': 1, '경마장에': 2, '있는': 3, '뛰고': 4, '있다': 5, '그의': 6, '법이다': 7, '가는': 8, '고와야': 9, '오는': 10, '곱다': 11}\n"
          ]
        }
      ]
    },
    {
      "cell_type": "code",
      "metadata": {
        "colab": {
          "base_uri": "https://localhost:8080/"
        },
        "id": "yxtpUv8fEJim",
        "outputId": "0c5d1ea4-4dd8-4504-eea5-732dd0da2e3a"
      },
      "source": [
        "sequences = list()\n",
        "for line in text.split('\\n'): # Wn을 기준으로 문장 토큰화\n",
        "    encoded = tokenizer.texts_to_sequences([line])[0]\n",
        "    for i in range(1, len(encoded)):\n",
        "        sequence = encoded[:i+1]\n",
        "        sequences.append(sequence)\n",
        "\n",
        "print('학습에 사용할 샘플의 개수: %d' % len(sequences))"
      ],
      "execution_count": 5,
      "outputs": [
        {
          "output_type": "stream",
          "name": "stdout",
          "text": [
            "학습에 사용할 샘플의 개수: 11\n"
          ]
        }
      ]
    },
    {
      "cell_type": "code",
      "metadata": {
        "colab": {
          "base_uri": "https://localhost:8080/"
        },
        "id": "Sn3ScsVyEKbO",
        "outputId": "703d39a8-4926-4633-828c-648f6aeef1ed"
      },
      "source": [
        "print(sequences)"
      ],
      "execution_count": 6,
      "outputs": [
        {
          "output_type": "stream",
          "name": "stdout",
          "text": [
            "[[2, 3], [2, 3, 1], [2, 3, 1, 4], [2, 3, 1, 4, 5], [6, 1], [6, 1, 7], [8, 1], [8, 1, 9], [8, 1, 9, 10], [8, 1, 9, 10, 1], [8, 1, 9, 10, 1, 11]]\n"
          ]
        }
      ]
    },
    {
      "cell_type": "code",
      "metadata": {
        "colab": {
          "base_uri": "https://localhost:8080/"
        },
        "id": "2WQk_gFlELvO",
        "outputId": "8aa79c42-0d52-42b4-a859-8c4e8b186510"
      },
      "source": [
        "max_len = max(len(l) for l in sequences) # 모든 샘플에서 길이가 가장 긴 샘플의 길이 출력\n",
        "print('샘플의 최대 길이 : {}'.format(max_len))"
      ],
      "execution_count": 7,
      "outputs": [
        {
          "output_type": "stream",
          "name": "stdout",
          "text": [
            "샘플의 최대 길이 : 6\n"
          ]
        }
      ]
    },
    {
      "cell_type": "code",
      "metadata": {
        "id": "D9KPYYerEMiO"
      },
      "source": [
        "sequences = pad_sequences(sequences, maxlen=max_len, padding='pre')"
      ],
      "execution_count": 8,
      "outputs": []
    },
    {
      "cell_type": "code",
      "metadata": {
        "colab": {
          "base_uri": "https://localhost:8080/"
        },
        "id": "H9dK4VDuENZW",
        "outputId": "4bae531a-d3d1-46e6-947c-1878e9afcd85"
      },
      "source": [
        "print(sequences)"
      ],
      "execution_count": 9,
      "outputs": [
        {
          "output_type": "stream",
          "name": "stdout",
          "text": [
            "[[ 0  0  0  0  2  3]\n",
            " [ 0  0  0  2  3  1]\n",
            " [ 0  0  2  3  1  4]\n",
            " [ 0  2  3  1  4  5]\n",
            " [ 0  0  0  0  6  1]\n",
            " [ 0  0  0  6  1  7]\n",
            " [ 0  0  0  0  8  1]\n",
            " [ 0  0  0  8  1  9]\n",
            " [ 0  0  8  1  9 10]\n",
            " [ 0  8  1  9 10  1]\n",
            " [ 8  1  9 10  1 11]]\n"
          ]
        }
      ]
    },
    {
      "cell_type": "code",
      "metadata": {
        "id": "8Vu99bIZEOFG"
      },
      "source": [
        "sequences = np.array(sequences)\n",
        "X = sequences[:,:-1]\n",
        "y = sequences[:,-1]"
      ],
      "execution_count": 10,
      "outputs": []
    },
    {
      "cell_type": "code",
      "metadata": {
        "colab": {
          "base_uri": "https://localhost:8080/"
        },
        "id": "U63gl8GMEPeG",
        "outputId": "30400821-5953-4af9-fc7c-4bdb6fa8ef2b"
      },
      "source": [
        "print(X)"
      ],
      "execution_count": null,
      "outputs": [
        {
          "output_type": "stream",
          "name": "stdout",
          "text": [
            "[[ 0  0  0  0  2]\n",
            " [ 0  0  0  2  3]\n",
            " [ 0  0  2  3  1]\n",
            " [ 0  2  3  1  4]\n",
            " [ 0  0  0  0  6]\n",
            " [ 0  0  0  6  1]\n",
            " [ 0  0  0  0  8]\n",
            " [ 0  0  0  8  1]\n",
            " [ 0  0  8  1  9]\n",
            " [ 0  8  1  9 10]\n",
            " [ 8  1  9 10  1]]\n"
          ]
        }
      ]
    },
    {
      "cell_type": "code",
      "metadata": {
        "colab": {
          "base_uri": "https://localhost:8080/"
        },
        "id": "11m6JFDBEWTe",
        "outputId": "6b6b6e2a-d272-441d-9036-b368f4aba12b"
      },
      "source": [
        "print(y) # 모든 샘플에 대한 레이블 출력"
      ],
      "execution_count": 11,
      "outputs": [
        {
          "output_type": "stream",
          "name": "stdout",
          "text": [
            "[ 3  1  4  5  1  7  1  9 10  1 11]\n"
          ]
        }
      ]
    },
    {
      "cell_type": "code",
      "metadata": {
        "id": "W3bLeTb1EXSe"
      },
      "source": [
        "y = to_categorical(y, num_classes=vocab_size)"
      ],
      "execution_count": 12,
      "outputs": []
    },
    {
      "cell_type": "code",
      "metadata": {
        "colab": {
          "base_uri": "https://localhost:8080/"
        },
        "id": "rgaGRDAeEYY-",
        "outputId": "7284d42c-2c08-4357-b28d-8c3629127c1e"
      },
      "source": [
        "print(y)"
      ],
      "execution_count": 13,
      "outputs": [
        {
          "output_type": "stream",
          "name": "stdout",
          "text": [
            "[[0. 0. 0. 1. 0. 0. 0. 0. 0. 0. 0. 0.]\n",
            " [0. 1. 0. 0. 0. 0. 0. 0. 0. 0. 0. 0.]\n",
            " [0. 0. 0. 0. 1. 0. 0. 0. 0. 0. 0. 0.]\n",
            " [0. 0. 0. 0. 0. 1. 0. 0. 0. 0. 0. 0.]\n",
            " [0. 1. 0. 0. 0. 0. 0. 0. 0. 0. 0. 0.]\n",
            " [0. 0. 0. 0. 0. 0. 0. 1. 0. 0. 0. 0.]\n",
            " [0. 1. 0. 0. 0. 0. 0. 0. 0. 0. 0. 0.]\n",
            " [0. 0. 0. 0. 0. 0. 0. 0. 0. 1. 0. 0.]\n",
            " [0. 0. 0. 0. 0. 0. 0. 0. 0. 0. 1. 0.]\n",
            " [0. 1. 0. 0. 0. 0. 0. 0. 0. 0. 0. 0.]\n",
            " [0. 0. 0. 0. 0. 0. 0. 0. 0. 0. 0. 1.]]\n"
          ]
        }
      ]
    },
    {
      "cell_type": "code",
      "metadata": {
        "id": "QbsqMkBKEZIe"
      },
      "source": [
        "from tensorflow.keras.models import Sequential\n",
        "from tensorflow.keras.layers import Embedding, Dense, SimpleRNN"
      ],
      "execution_count": 14,
      "outputs": []
    },
    {
      "cell_type": "code",
      "metadata": {
        "colab": {
          "base_uri": "https://localhost:8080/"
        },
        "id": "da3yM5cTEeNn",
        "outputId": "4cde05b6-f149-4b2c-8d24-5e183820a9cb"
      },
      "source": [
        "embedding_dim = 10\n",
        "hidden_units = 32\n",
        "\n",
        "model = Sequential()\n",
        "model.add(Embedding(vocab_size, embedding_dim))\n",
        "model.add(SimpleRNN(hidden_units))\n",
        "model.add(Dense(vocab_size, activation='softmax'))\n",
        "model.compile(loss='categorical_crossentropy', optimizer='adam', metrics=['accuracy'])\n",
        "model.fit(X, y, epochs=200, verbose=2)"
      ],
      "execution_count": 15,
      "outputs": [
        {
          "output_type": "stream",
          "name": "stdout",
          "text": [
            "Epoch 1/200\n",
            "1/1 - 3s - 3s/step - accuracy: 0.1818 - loss: 2.4715\n",
            "Epoch 2/200\n",
            "1/1 - 1s - 739ms/step - accuracy: 0.1818 - loss: 2.4606\n",
            "Epoch 3/200\n",
            "1/1 - 0s - 57ms/step - accuracy: 0.3636 - loss: 2.4495\n",
            "Epoch 4/200\n",
            "1/1 - 0s - 57ms/step - accuracy: 0.3636 - loss: 2.4383\n",
            "Epoch 5/200\n",
            "1/1 - 0s - 58ms/step - accuracy: 0.3636 - loss: 2.4268\n",
            "Epoch 6/200\n",
            "1/1 - 0s - 58ms/step - accuracy: 0.3636 - loss: 2.4149\n",
            "Epoch 7/200\n",
            "1/1 - 0s - 59ms/step - accuracy: 0.3636 - loss: 2.4025\n",
            "Epoch 8/200\n",
            "1/1 - 0s - 34ms/step - accuracy: 0.3636 - loss: 2.3895\n",
            "Epoch 9/200\n",
            "1/1 - 0s - 27ms/step - accuracy: 0.4545 - loss: 2.3759\n",
            "Epoch 10/200\n",
            "1/1 - 0s - 27ms/step - accuracy: 0.5455 - loss: 2.3615\n",
            "Epoch 11/200\n",
            "1/1 - 0s - 56ms/step - accuracy: 0.5455 - loss: 2.3463\n",
            "Epoch 12/200\n",
            "1/1 - 0s - 29ms/step - accuracy: 0.4545 - loss: 2.3301\n",
            "Epoch 13/200\n",
            "1/1 - 0s - 32ms/step - accuracy: 0.4545 - loss: 2.3128\n",
            "Epoch 14/200\n",
            "1/1 - 0s - 55ms/step - accuracy: 0.4545 - loss: 2.2944\n",
            "Epoch 15/200\n",
            "1/1 - 0s - 30ms/step - accuracy: 0.4545 - loss: 2.2747\n",
            "Epoch 16/200\n",
            "1/1 - 0s - 45ms/step - accuracy: 0.4545 - loss: 2.2538\n",
            "Epoch 17/200\n",
            "1/1 - 0s - 28ms/step - accuracy: 0.4545 - loss: 2.2315\n",
            "Epoch 18/200\n",
            "1/1 - 0s - 57ms/step - accuracy: 0.4545 - loss: 2.2078\n",
            "Epoch 19/200\n",
            "1/1 - 0s - 28ms/step - accuracy: 0.4545 - loss: 2.1828\n",
            "Epoch 20/200\n",
            "1/1 - 0s - 32ms/step - accuracy: 0.3636 - loss: 2.1565\n",
            "Epoch 21/200\n",
            "1/1 - 0s - 55ms/step - accuracy: 0.3636 - loss: 2.1290\n",
            "Epoch 22/200\n",
            "1/1 - 0s - 57ms/step - accuracy: 0.3636 - loss: 2.1006\n",
            "Epoch 23/200\n",
            "1/1 - 0s - 57ms/step - accuracy: 0.3636 - loss: 2.0715\n",
            "Epoch 24/200\n",
            "1/1 - 0s - 56ms/step - accuracy: 0.3636 - loss: 2.0421\n",
            "Epoch 25/200\n",
            "1/1 - 0s - 57ms/step - accuracy: 0.3636 - loss: 2.0129\n",
            "Epoch 26/200\n",
            "1/1 - 0s - 30ms/step - accuracy: 0.3636 - loss: 1.9843\n",
            "Epoch 27/200\n",
            "1/1 - 0s - 58ms/step - accuracy: 0.3636 - loss: 1.9569\n",
            "Epoch 28/200\n",
            "1/1 - 0s - 44ms/step - accuracy: 0.3636 - loss: 1.9312\n",
            "Epoch 29/200\n",
            "1/1 - 0s - 44ms/step - accuracy: 0.3636 - loss: 1.9077\n",
            "Epoch 30/200\n",
            "1/1 - 0s - 53ms/step - accuracy: 0.3636 - loss: 1.8866\n",
            "Epoch 31/200\n",
            "1/1 - 0s - 31ms/step - accuracy: 0.3636 - loss: 1.8679\n",
            "Epoch 32/200\n",
            "1/1 - 0s - 55ms/step - accuracy: 0.3636 - loss: 1.8513\n",
            "Epoch 33/200\n",
            "1/1 - 0s - 56ms/step - accuracy: 0.3636 - loss: 1.8361\n",
            "Epoch 34/200\n",
            "1/1 - 0s - 57ms/step - accuracy: 0.3636 - loss: 1.8216\n",
            "Epoch 35/200\n",
            "1/1 - 0s - 60ms/step - accuracy: 0.3636 - loss: 1.8071\n",
            "Epoch 36/200\n",
            "1/1 - 0s - 55ms/step - accuracy: 0.3636 - loss: 1.7919\n",
            "Epoch 37/200\n",
            "1/1 - 0s - 46ms/step - accuracy: 0.3636 - loss: 1.7759\n",
            "Epoch 38/200\n",
            "1/1 - 0s - 20ms/step - accuracy: 0.3636 - loss: 1.7587\n",
            "Epoch 39/200\n",
            "1/1 - 0s - 19ms/step - accuracy: 0.3636 - loss: 1.7405\n",
            "Epoch 40/200\n",
            "1/1 - 0s - 19ms/step - accuracy: 0.4545 - loss: 1.7214\n",
            "Epoch 41/200\n",
            "1/1 - 0s - 19ms/step - accuracy: 0.4545 - loss: 1.7019\n",
            "Epoch 42/200\n",
            "1/1 - 0s - 20ms/step - accuracy: 0.4545 - loss: 1.6822\n",
            "Epoch 43/200\n",
            "1/1 - 0s - 19ms/step - accuracy: 0.4545 - loss: 1.6624\n",
            "Epoch 44/200\n",
            "1/1 - 0s - 19ms/step - accuracy: 0.4545 - loss: 1.6429\n",
            "Epoch 45/200\n",
            "1/1 - 0s - 19ms/step - accuracy: 0.4545 - loss: 1.6237\n",
            "Epoch 46/200\n",
            "1/1 - 0s - 22ms/step - accuracy: 0.4545 - loss: 1.6047\n",
            "Epoch 47/200\n",
            "1/1 - 0s - 19ms/step - accuracy: 0.4545 - loss: 1.5859\n",
            "Epoch 48/200\n",
            "1/1 - 0s - 20ms/step - accuracy: 0.4545 - loss: 1.5672\n",
            "Epoch 49/200\n",
            "1/1 - 0s - 57ms/step - accuracy: 0.4545 - loss: 1.5484\n",
            "Epoch 50/200\n",
            "1/1 - 0s - 19ms/step - accuracy: 0.5455 - loss: 1.5294\n",
            "Epoch 51/200\n",
            "1/1 - 0s - 19ms/step - accuracy: 0.5455 - loss: 1.5101\n",
            "Epoch 52/200\n",
            "1/1 - 0s - 59ms/step - accuracy: 0.5455 - loss: 1.4905\n",
            "Epoch 53/200\n",
            "1/1 - 0s - 56ms/step - accuracy: 0.5455 - loss: 1.4705\n",
            "Epoch 54/200\n",
            "1/1 - 0s - 56ms/step - accuracy: 0.5455 - loss: 1.4502\n",
            "Epoch 55/200\n",
            "1/1 - 0s - 24ms/step - accuracy: 0.5455 - loss: 1.4296\n",
            "Epoch 56/200\n",
            "1/1 - 0s - 19ms/step - accuracy: 0.6364 - loss: 1.4088\n",
            "Epoch 57/200\n",
            "1/1 - 0s - 20ms/step - accuracy: 0.6364 - loss: 1.3879\n",
            "Epoch 58/200\n",
            "1/1 - 0s - 19ms/step - accuracy: 0.6364 - loss: 1.3671\n",
            "Epoch 59/200\n",
            "1/1 - 0s - 58ms/step - accuracy: 0.6364 - loss: 1.3465\n",
            "Epoch 60/200\n",
            "1/1 - 0s - 19ms/step - accuracy: 0.6364 - loss: 1.3260\n",
            "Epoch 61/200\n",
            "1/1 - 0s - 57ms/step - accuracy: 0.6364 - loss: 1.3058\n",
            "Epoch 62/200\n",
            "1/1 - 0s - 20ms/step - accuracy: 0.6364 - loss: 1.2860\n",
            "Epoch 63/200\n",
            "1/1 - 0s - 22ms/step - accuracy: 0.6364 - loss: 1.2665\n",
            "Epoch 64/200\n",
            "1/1 - 0s - 19ms/step - accuracy: 0.6364 - loss: 1.2473\n",
            "Epoch 65/200\n",
            "1/1 - 0s - 19ms/step - accuracy: 0.6364 - loss: 1.2284\n",
            "Epoch 66/200\n",
            "1/1 - 0s - 58ms/step - accuracy: 0.6364 - loss: 1.2099\n",
            "Epoch 67/200\n",
            "1/1 - 0s - 22ms/step - accuracy: 0.6364 - loss: 1.1916\n",
            "Epoch 68/200\n",
            "1/1 - 0s - 19ms/step - accuracy: 0.6364 - loss: 1.1737\n",
            "Epoch 69/200\n",
            "1/1 - 0s - 19ms/step - accuracy: 0.6364 - loss: 1.1560\n",
            "Epoch 70/200\n",
            "1/1 - 0s - 19ms/step - accuracy: 0.6364 - loss: 1.1385\n",
            "Epoch 71/200\n",
            "1/1 - 0s - 20ms/step - accuracy: 0.6364 - loss: 1.1213\n",
            "Epoch 72/200\n",
            "1/1 - 0s - 58ms/step - accuracy: 0.6364 - loss: 1.1044\n",
            "Epoch 73/200\n",
            "1/1 - 0s - 22ms/step - accuracy: 0.6364 - loss: 1.0878\n",
            "Epoch 74/200\n",
            "1/1 - 0s - 19ms/step - accuracy: 0.6364 - loss: 1.0714\n",
            "Epoch 75/200\n",
            "1/1 - 0s - 19ms/step - accuracy: 0.6364 - loss: 1.0553\n",
            "Epoch 76/200\n",
            "1/1 - 0s - 19ms/step - accuracy: 0.6364 - loss: 1.0394\n",
            "Epoch 77/200\n",
            "1/1 - 0s - 20ms/step - accuracy: 0.6364 - loss: 1.0237\n",
            "Epoch 78/200\n",
            "1/1 - 0s - 20ms/step - accuracy: 0.6364 - loss: 1.0083\n",
            "Epoch 79/200\n",
            "1/1 - 0s - 19ms/step - accuracy: 0.6364 - loss: 0.9930\n",
            "Epoch 80/200\n",
            "1/1 - 0s - 20ms/step - accuracy: 0.7273 - loss: 0.9779\n",
            "Epoch 81/200\n",
            "1/1 - 0s - 19ms/step - accuracy: 0.7273 - loss: 0.9629\n",
            "Epoch 82/200\n",
            "1/1 - 0s - 19ms/step - accuracy: 0.7273 - loss: 0.9481\n",
            "Epoch 83/200\n",
            "1/1 - 0s - 25ms/step - accuracy: 0.7273 - loss: 0.9335\n",
            "Epoch 84/200\n",
            "1/1 - 0s - 24ms/step - accuracy: 0.7273 - loss: 0.9189\n",
            "Epoch 85/200\n",
            "1/1 - 0s - 25ms/step - accuracy: 0.7273 - loss: 0.9046\n",
            "Epoch 86/200\n",
            "1/1 - 0s - 28ms/step - accuracy: 0.7273 - loss: 0.8903\n",
            "Epoch 87/200\n",
            "1/1 - 0s - 24ms/step - accuracy: 0.7273 - loss: 0.8762\n",
            "Epoch 88/200\n",
            "1/1 - 0s - 23ms/step - accuracy: 0.7273 - loss: 0.8623\n",
            "Epoch 89/200\n",
            "1/1 - 0s - 24ms/step - accuracy: 0.7273 - loss: 0.8484\n",
            "Epoch 90/200\n",
            "1/1 - 0s - 58ms/step - accuracy: 0.8182 - loss: 0.8347\n",
            "Epoch 91/200\n",
            "1/1 - 0s - 26ms/step - accuracy: 0.8182 - loss: 0.8211\n",
            "Epoch 92/200\n",
            "1/1 - 0s - 22ms/step - accuracy: 0.8182 - loss: 0.8076\n",
            "Epoch 93/200\n",
            "1/1 - 0s - 19ms/step - accuracy: 0.8182 - loss: 0.7943\n",
            "Epoch 94/200\n",
            "1/1 - 0s - 19ms/step - accuracy: 0.8182 - loss: 0.7810\n",
            "Epoch 95/200\n",
            "1/1 - 0s - 20ms/step - accuracy: 0.8182 - loss: 0.7679\n",
            "Epoch 96/200\n",
            "1/1 - 0s - 21ms/step - accuracy: 0.8182 - loss: 0.7549\n",
            "Epoch 97/200\n",
            "1/1 - 0s - 56ms/step - accuracy: 0.8182 - loss: 0.7420\n",
            "Epoch 98/200\n",
            "1/1 - 0s - 23ms/step - accuracy: 0.8182 - loss: 0.7292\n",
            "Epoch 99/200\n",
            "1/1 - 0s - 21ms/step - accuracy: 0.8182 - loss: 0.7165\n",
            "Epoch 100/200\n",
            "1/1 - 0s - 23ms/step - accuracy: 0.8182 - loss: 0.7039\n",
            "Epoch 101/200\n",
            "1/1 - 0s - 24ms/step - accuracy: 0.8182 - loss: 0.6914\n",
            "Epoch 102/200\n",
            "1/1 - 0s - 20ms/step - accuracy: 0.9091 - loss: 0.6791\n",
            "Epoch 103/200\n",
            "1/1 - 0s - 22ms/step - accuracy: 0.9091 - loss: 0.6669\n",
            "Epoch 104/200\n",
            "1/1 - 0s - 57ms/step - accuracy: 0.9091 - loss: 0.6547\n",
            "Epoch 105/200\n",
            "1/1 - 0s - 19ms/step - accuracy: 0.9091 - loss: 0.6427\n",
            "Epoch 106/200\n",
            "1/1 - 0s - 58ms/step - accuracy: 0.9091 - loss: 0.6308\n",
            "Epoch 107/200\n",
            "1/1 - 0s - 22ms/step - accuracy: 0.9091 - loss: 0.6191\n",
            "Epoch 108/200\n",
            "1/1 - 0s - 19ms/step - accuracy: 0.9091 - loss: 0.6074\n",
            "Epoch 109/200\n",
            "1/1 - 0s - 20ms/step - accuracy: 0.9091 - loss: 0.5959\n",
            "Epoch 110/200\n",
            "1/1 - 0s - 19ms/step - accuracy: 0.9091 - loss: 0.5845\n",
            "Epoch 111/200\n",
            "1/1 - 0s - 20ms/step - accuracy: 0.9091 - loss: 0.5733\n",
            "Epoch 112/200\n",
            "1/1 - 0s - 21ms/step - accuracy: 0.9091 - loss: 0.5622\n",
            "Epoch 113/200\n",
            "1/1 - 0s - 20ms/step - accuracy: 0.9091 - loss: 0.5512\n",
            "Epoch 114/200\n",
            "1/1 - 0s - 20ms/step - accuracy: 0.9091 - loss: 0.5404\n",
            "Epoch 115/200\n",
            "1/1 - 0s - 22ms/step - accuracy: 0.9091 - loss: 0.5297\n",
            "Epoch 116/200\n",
            "1/1 - 0s - 24ms/step - accuracy: 0.9091 - loss: 0.5192\n",
            "Epoch 117/200\n",
            "1/1 - 0s - 24ms/step - accuracy: 0.9091 - loss: 0.5089\n",
            "Epoch 118/200\n",
            "1/1 - 0s - 58ms/step - accuracy: 0.9091 - loss: 0.4987\n",
            "Epoch 119/200\n",
            "1/1 - 0s - 24ms/step - accuracy: 0.9091 - loss: 0.4887\n",
            "Epoch 120/200\n",
            "1/1 - 0s - 24ms/step - accuracy: 0.9091 - loss: 0.4788\n",
            "Epoch 121/200\n",
            "1/1 - 0s - 23ms/step - accuracy: 0.9091 - loss: 0.4691\n",
            "Epoch 122/200\n",
            "1/1 - 0s - 57ms/step - accuracy: 0.9091 - loss: 0.4596\n",
            "Epoch 123/200\n",
            "1/1 - 0s - 22ms/step - accuracy: 0.9091 - loss: 0.4503\n",
            "Epoch 124/200\n",
            "1/1 - 0s - 20ms/step - accuracy: 0.9091 - loss: 0.4411\n",
            "Epoch 125/200\n",
            "1/1 - 0s - 20ms/step - accuracy: 0.9091 - loss: 0.4321\n",
            "Epoch 126/200\n",
            "1/1 - 0s - 20ms/step - accuracy: 0.9091 - loss: 0.4233\n",
            "Epoch 127/200\n",
            "1/1 - 0s - 57ms/step - accuracy: 0.9091 - loss: 0.4147\n",
            "Epoch 128/200\n",
            "1/1 - 0s - 19ms/step - accuracy: 0.9091 - loss: 0.4062\n",
            "Epoch 129/200\n",
            "1/1 - 0s - 20ms/step - accuracy: 0.9091 - loss: 0.3979\n",
            "Epoch 130/200\n",
            "1/1 - 0s - 19ms/step - accuracy: 0.9091 - loss: 0.3898\n",
            "Epoch 131/200\n",
            "1/1 - 0s - 58ms/step - accuracy: 0.9091 - loss: 0.3819\n",
            "Epoch 132/200\n",
            "1/1 - 0s - 29ms/step - accuracy: 0.9091 - loss: 0.3741\n",
            "Epoch 133/200\n",
            "1/1 - 0s - 19ms/step - accuracy: 0.9091 - loss: 0.3665\n",
            "Epoch 134/200\n",
            "1/1 - 0s - 19ms/step - accuracy: 0.9091 - loss: 0.3590\n",
            "Epoch 135/200\n",
            "1/1 - 0s - 20ms/step - accuracy: 0.9091 - loss: 0.3517\n",
            "Epoch 136/200\n",
            "1/1 - 0s - 19ms/step - accuracy: 0.9091 - loss: 0.3446\n",
            "Epoch 137/200\n",
            "1/1 - 0s - 20ms/step - accuracy: 0.9091 - loss: 0.3376\n",
            "Epoch 138/200\n",
            "1/1 - 0s - 20ms/step - accuracy: 0.9091 - loss: 0.3308\n",
            "Epoch 139/200\n",
            "1/1 - 0s - 23ms/step - accuracy: 1.0000 - loss: 0.3241\n",
            "Epoch 140/200\n",
            "1/1 - 0s - 56ms/step - accuracy: 1.0000 - loss: 0.3176\n",
            "Epoch 141/200\n",
            "1/1 - 0s - 22ms/step - accuracy: 1.0000 - loss: 0.3112\n",
            "Epoch 142/200\n",
            "1/1 - 0s - 23ms/step - accuracy: 1.0000 - loss: 0.3050\n",
            "Epoch 143/200\n",
            "1/1 - 0s - 20ms/step - accuracy: 1.0000 - loss: 0.2989\n",
            "Epoch 144/200\n",
            "1/1 - 0s - 20ms/step - accuracy: 1.0000 - loss: 0.2929\n",
            "Epoch 145/200\n",
            "1/1 - 0s - 59ms/step - accuracy: 1.0000 - loss: 0.2871\n",
            "Epoch 146/200\n",
            "1/1 - 0s - 23ms/step - accuracy: 1.0000 - loss: 0.2813\n",
            "Epoch 147/200\n",
            "1/1 - 0s - 25ms/step - accuracy: 1.0000 - loss: 0.2757\n",
            "Epoch 148/200\n",
            "1/1 - 0s - 24ms/step - accuracy: 1.0000 - loss: 0.2703\n",
            "Epoch 149/200\n",
            "1/1 - 0s - 59ms/step - accuracy: 1.0000 - loss: 0.2649\n",
            "Epoch 150/200\n",
            "1/1 - 0s - 55ms/step - accuracy: 1.0000 - loss: 0.2596\n",
            "Epoch 151/200\n",
            "1/1 - 0s - 24ms/step - accuracy: 1.0000 - loss: 0.2545\n",
            "Epoch 152/200\n",
            "1/1 - 0s - 55ms/step - accuracy: 1.0000 - loss: 0.2495\n",
            "Epoch 153/200\n",
            "1/1 - 0s - 20ms/step - accuracy: 1.0000 - loss: 0.2445\n",
            "Epoch 154/200\n",
            "1/1 - 0s - 57ms/step - accuracy: 1.0000 - loss: 0.2397\n",
            "Epoch 155/200\n",
            "1/1 - 0s - 20ms/step - accuracy: 1.0000 - loss: 0.2350\n",
            "Epoch 156/200\n",
            "1/1 - 0s - 19ms/step - accuracy: 1.0000 - loss: 0.2304\n",
            "Epoch 157/200\n",
            "1/1 - 0s - 22ms/step - accuracy: 1.0000 - loss: 0.2259\n",
            "Epoch 158/200\n",
            "1/1 - 0s - 19ms/step - accuracy: 1.0000 - loss: 0.2214\n",
            "Epoch 159/200\n",
            "1/1 - 0s - 19ms/step - accuracy: 1.0000 - loss: 0.2171\n",
            "Epoch 160/200\n",
            "1/1 - 0s - 58ms/step - accuracy: 1.0000 - loss: 0.2128\n",
            "Epoch 161/200\n",
            "1/1 - 0s - 20ms/step - accuracy: 1.0000 - loss: 0.2087\n",
            "Epoch 162/200\n",
            "1/1 - 0s - 23ms/step - accuracy: 1.0000 - loss: 0.2046\n",
            "Epoch 163/200\n",
            "1/1 - 0s - 55ms/step - accuracy: 1.0000 - loss: 0.2006\n",
            "Epoch 164/200\n",
            "1/1 - 0s - 57ms/step - accuracy: 1.0000 - loss: 0.1967\n",
            "Epoch 165/200\n",
            "1/1 - 0s - 20ms/step - accuracy: 1.0000 - loss: 0.1929\n",
            "Epoch 166/200\n",
            "1/1 - 0s - 58ms/step - accuracy: 1.0000 - loss: 0.1891\n",
            "Epoch 167/200\n",
            "1/1 - 0s - 20ms/step - accuracy: 1.0000 - loss: 0.1855\n",
            "Epoch 168/200\n",
            "1/1 - 0s - 19ms/step - accuracy: 1.0000 - loss: 0.1819\n",
            "Epoch 169/200\n",
            "1/1 - 0s - 21ms/step - accuracy: 1.0000 - loss: 0.1784\n",
            "Epoch 170/200\n",
            "1/1 - 0s - 19ms/step - accuracy: 1.0000 - loss: 0.1749\n",
            "Epoch 171/200\n",
            "1/1 - 0s - 20ms/step - accuracy: 1.0000 - loss: 0.1716\n",
            "Epoch 172/200\n",
            "1/1 - 0s - 19ms/step - accuracy: 1.0000 - loss: 0.1683\n",
            "Epoch 173/200\n",
            "1/1 - 0s - 19ms/step - accuracy: 1.0000 - loss: 0.1650\n",
            "Epoch 174/200\n",
            "1/1 - 0s - 22ms/step - accuracy: 1.0000 - loss: 0.1619\n",
            "Epoch 175/200\n",
            "1/1 - 0s - 25ms/step - accuracy: 1.0000 - loss: 0.1588\n",
            "Epoch 176/200\n",
            "1/1 - 0s - 52ms/step - accuracy: 1.0000 - loss: 0.1558\n",
            "Epoch 177/200\n",
            "1/1 - 0s - 24ms/step - accuracy: 1.0000 - loss: 0.1528\n",
            "Epoch 178/200\n",
            "1/1 - 0s - 27ms/step - accuracy: 1.0000 - loss: 0.1499\n",
            "Epoch 179/200\n",
            "1/1 - 0s - 23ms/step - accuracy: 1.0000 - loss: 0.1471\n",
            "Epoch 180/200\n",
            "1/1 - 0s - 24ms/step - accuracy: 1.0000 - loss: 0.1444\n",
            "Epoch 181/200\n",
            "1/1 - 0s - 25ms/step - accuracy: 1.0000 - loss: 0.1417\n",
            "Epoch 182/200\n",
            "1/1 - 0s - 56ms/step - accuracy: 1.0000 - loss: 0.1390\n",
            "Epoch 183/200\n",
            "1/1 - 0s - 19ms/step - accuracy: 1.0000 - loss: 0.1364\n",
            "Epoch 184/200\n",
            "1/1 - 0s - 19ms/step - accuracy: 1.0000 - loss: 0.1339\n",
            "Epoch 185/200\n",
            "1/1 - 0s - 19ms/step - accuracy: 1.0000 - loss: 0.1315\n",
            "Epoch 186/200\n",
            "1/1 - 0s - 19ms/step - accuracy: 1.0000 - loss: 0.1290\n",
            "Epoch 187/200\n",
            "1/1 - 0s - 19ms/step - accuracy: 1.0000 - loss: 0.1267\n",
            "Epoch 188/200\n",
            "1/1 - 0s - 19ms/step - accuracy: 1.0000 - loss: 0.1244\n",
            "Epoch 189/200\n",
            "1/1 - 0s - 22ms/step - accuracy: 1.0000 - loss: 0.1221\n",
            "Epoch 190/200\n",
            "1/1 - 0s - 19ms/step - accuracy: 1.0000 - loss: 0.1199\n",
            "Epoch 191/200\n",
            "1/1 - 0s - 57ms/step - accuracy: 1.0000 - loss: 0.1178\n",
            "Epoch 192/200\n",
            "1/1 - 0s - 20ms/step - accuracy: 1.0000 - loss: 0.1157\n",
            "Epoch 193/200\n",
            "1/1 - 0s - 19ms/step - accuracy: 1.0000 - loss: 0.1136\n",
            "Epoch 194/200\n",
            "1/1 - 0s - 28ms/step - accuracy: 1.0000 - loss: 0.1116\n",
            "Epoch 195/200\n",
            "1/1 - 0s - 56ms/step - accuracy: 1.0000 - loss: 0.1097\n",
            "Epoch 196/200\n",
            "1/1 - 0s - 20ms/step - accuracy: 1.0000 - loss: 0.1078\n",
            "Epoch 197/200\n",
            "1/1 - 0s - 20ms/step - accuracy: 1.0000 - loss: 0.1059\n",
            "Epoch 198/200\n",
            "1/1 - 0s - 19ms/step - accuracy: 1.0000 - loss: 0.1041\n",
            "Epoch 199/200\n",
            "1/1 - 0s - 20ms/step - accuracy: 1.0000 - loss: 0.1023\n",
            "Epoch 200/200\n",
            "1/1 - 0s - 20ms/step - accuracy: 1.0000 - loss: 0.1006\n"
          ]
        },
        {
          "output_type": "execute_result",
          "data": {
            "text/plain": [
              "<keras.src.callbacks.history.History at 0x7dd65a4afac0>"
            ]
          },
          "metadata": {},
          "execution_count": 15
        }
      ]
    },
    {
      "cell_type": "code",
      "metadata": {
        "id": "t96dpxgNEl4v"
      },
      "source": [
        "def sentence_generation(model, tokenizer, current_word, n): # 모델, 토크나이저, 현재 단어, 반복할 횟수\n",
        "    init_word = current_word\n",
        "    sentence = ''\n",
        "\n",
        "    # n번 반복\n",
        "    for _ in range(n):\n",
        "        # 현재 단어에 대한 정수 인코딩과 패딩\n",
        "        encoded = tokenizer.texts_to_sequences([current_word])[0]\n",
        "        encoded = pad_sequences([encoded], maxlen=5, padding='pre')\n",
        "        # 입력한 X(현재 단어)에 대해서 Y를 예측하고 Y(예측한 단어)를 result에 저장.\n",
        "        result = model.predict(encoded, verbose=0)\n",
        "        result = np.argmax(result, axis=1)\n",
        "\n",
        "        for word, index in tokenizer.word_index.items():\n",
        "            # 만약 예측한 단어와 인덱스와 동일한 단어가 있다면 break\n",
        "            if index == result:\n",
        "                break\n",
        "\n",
        "        # 현재 단어 + ' ' + 예측 단어를 현재 단어로 변경\n",
        "        current_word = current_word + ' '  + word\n",
        "\n",
        "        # 예측 단어를 문장에 저장\n",
        "        sentence = sentence + ' ' + word\n",
        "\n",
        "    sentence = init_word + sentence\n",
        "    return sentence"
      ],
      "execution_count": 16,
      "outputs": []
    },
    {
      "cell_type": "code",
      "metadata": {
        "colab": {
          "base_uri": "https://localhost:8080/"
        },
        "id": "jJjBZ6PxE0EX",
        "outputId": "decff90a-2294-4e84-de4b-50bb4a4f98fe"
      },
      "source": [
        "print(sentence_generation(model, tokenizer, '경마장에', 4))"
      ],
      "execution_count": 17,
      "outputs": [
        {
          "output_type": "stream",
          "name": "stdout",
          "text": [
            "경마장에 있는 말이 뛰고 있다\n"
          ]
        }
      ]
    },
    {
      "cell_type": "code",
      "metadata": {
        "colab": {
          "base_uri": "https://localhost:8080/"
        },
        "id": "AOfI9YuUFVv2",
        "outputId": "0108644a-86ca-4438-cb96-b99930fe12b9"
      },
      "source": [
        "print(sentence_generation(model, tokenizer, '그의', 2))"
      ],
      "execution_count": 18,
      "outputs": [
        {
          "output_type": "stream",
          "name": "stdout",
          "text": [
            "그의 말이 법이다\n"
          ]
        }
      ]
    },
    {
      "cell_type": "code",
      "metadata": {
        "colab": {
          "base_uri": "https://localhost:8080/"
        },
        "id": "Gl9zEMmzFh9u",
        "outputId": "5646ac0a-c5f9-4701-f739-300e1d1c5d0d"
      },
      "source": [
        "print(sentence_generation(model, tokenizer, '가는', 5))"
      ],
      "execution_count": 19,
      "outputs": [
        {
          "output_type": "stream",
          "name": "stdout",
          "text": [
            "가는 말이 고와야 오는 말이 곱다\n"
          ]
        }
      ]
    },
    {
      "cell_type": "markdown",
      "metadata": {
        "id": "jJtAdaMtGn6T"
      },
      "source": [
        "# 2. LSTM을 이용하여 텍스트 생성하기"
      ]
    },
    {
      "cell_type": "code",
      "metadata": {
        "id": "wCIJkMG5Go1f"
      },
      "source": [
        "import pandas as pd\n",
        "import numpy as np\n",
        "from string import punctuation\n",
        "\n",
        "from tensorflow.keras.preprocessing.text import Tokenizer\n",
        "from tensorflow.keras.preprocessing.sequence import pad_sequences\n",
        "from tensorflow.keras.utils import to_categorical"
      ],
      "execution_count": 20,
      "outputs": []
    },
    {
      "cell_type": "code",
      "source": [
        "from google.colab import files\n",
        "uploaded = files.upload()\t\t# 파일 업로드\n",
        "for fn in uploaded.keys():\t\t# 업로드한 파일 확인\n",
        "  print(f'User uploaded file \"{fn}\" with length {len(uploaded[fn])} bytes')"
      ],
      "metadata": {
        "id": "zSgyhIC7aUOe",
        "outputId": "5d41c987-cac4-40bb-8511-5f6af080063b",
        "colab": {
          "base_uri": "https://localhost:8080/",
          "height": 96
        }
      },
      "execution_count": 23,
      "outputs": [
        {
          "output_type": "display_data",
          "data": {
            "text/plain": [
              "<IPython.core.display.HTML object>"
            ],
            "text/html": [
              "\n",
              "     <input type=\"file\" id=\"files-05a42874-318b-4ed6-83a8-9bf21f89619b\" name=\"files[]\" multiple disabled\n",
              "        style=\"border:none\" />\n",
              "     <output id=\"result-05a42874-318b-4ed6-83a8-9bf21f89619b\">\n",
              "      Upload widget is only available when the cell has been executed in the\n",
              "      current browser session. Please rerun this cell to enable.\n",
              "      </output>\n",
              "      <script>// Copyright 2017 Google LLC\n",
              "//\n",
              "// Licensed under the Apache License, Version 2.0 (the \"License\");\n",
              "// you may not use this file except in compliance with the License.\n",
              "// You may obtain a copy of the License at\n",
              "//\n",
              "//      http://www.apache.org/licenses/LICENSE-2.0\n",
              "//\n",
              "// Unless required by applicable law or agreed to in writing, software\n",
              "// distributed under the License is distributed on an \"AS IS\" BASIS,\n",
              "// WITHOUT WARRANTIES OR CONDITIONS OF ANY KIND, either express or implied.\n",
              "// See the License for the specific language governing permissions and\n",
              "// limitations under the License.\n",
              "\n",
              "/**\n",
              " * @fileoverview Helpers for google.colab Python module.\n",
              " */\n",
              "(function(scope) {\n",
              "function span(text, styleAttributes = {}) {\n",
              "  const element = document.createElement('span');\n",
              "  element.textContent = text;\n",
              "  for (const key of Object.keys(styleAttributes)) {\n",
              "    element.style[key] = styleAttributes[key];\n",
              "  }\n",
              "  return element;\n",
              "}\n",
              "\n",
              "// Max number of bytes which will be uploaded at a time.\n",
              "const MAX_PAYLOAD_SIZE = 100 * 1024;\n",
              "\n",
              "function _uploadFiles(inputId, outputId) {\n",
              "  const steps = uploadFilesStep(inputId, outputId);\n",
              "  const outputElement = document.getElementById(outputId);\n",
              "  // Cache steps on the outputElement to make it available for the next call\n",
              "  // to uploadFilesContinue from Python.\n",
              "  outputElement.steps = steps;\n",
              "\n",
              "  return _uploadFilesContinue(outputId);\n",
              "}\n",
              "\n",
              "// This is roughly an async generator (not supported in the browser yet),\n",
              "// where there are multiple asynchronous steps and the Python side is going\n",
              "// to poll for completion of each step.\n",
              "// This uses a Promise to block the python side on completion of each step,\n",
              "// then passes the result of the previous step as the input to the next step.\n",
              "function _uploadFilesContinue(outputId) {\n",
              "  const outputElement = document.getElementById(outputId);\n",
              "  const steps = outputElement.steps;\n",
              "\n",
              "  const next = steps.next(outputElement.lastPromiseValue);\n",
              "  return Promise.resolve(next.value.promise).then((value) => {\n",
              "    // Cache the last promise value to make it available to the next\n",
              "    // step of the generator.\n",
              "    outputElement.lastPromiseValue = value;\n",
              "    return next.value.response;\n",
              "  });\n",
              "}\n",
              "\n",
              "/**\n",
              " * Generator function which is called between each async step of the upload\n",
              " * process.\n",
              " * @param {string} inputId Element ID of the input file picker element.\n",
              " * @param {string} outputId Element ID of the output display.\n",
              " * @return {!Iterable<!Object>} Iterable of next steps.\n",
              " */\n",
              "function* uploadFilesStep(inputId, outputId) {\n",
              "  const inputElement = document.getElementById(inputId);\n",
              "  inputElement.disabled = false;\n",
              "\n",
              "  const outputElement = document.getElementById(outputId);\n",
              "  outputElement.innerHTML = '';\n",
              "\n",
              "  const pickedPromise = new Promise((resolve) => {\n",
              "    inputElement.addEventListener('change', (e) => {\n",
              "      resolve(e.target.files);\n",
              "    });\n",
              "  });\n",
              "\n",
              "  const cancel = document.createElement('button');\n",
              "  inputElement.parentElement.appendChild(cancel);\n",
              "  cancel.textContent = 'Cancel upload';\n",
              "  const cancelPromise = new Promise((resolve) => {\n",
              "    cancel.onclick = () => {\n",
              "      resolve(null);\n",
              "    };\n",
              "  });\n",
              "\n",
              "  // Wait for the user to pick the files.\n",
              "  const files = yield {\n",
              "    promise: Promise.race([pickedPromise, cancelPromise]),\n",
              "    response: {\n",
              "      action: 'starting',\n",
              "    }\n",
              "  };\n",
              "\n",
              "  cancel.remove();\n",
              "\n",
              "  // Disable the input element since further picks are not allowed.\n",
              "  inputElement.disabled = true;\n",
              "\n",
              "  if (!files) {\n",
              "    return {\n",
              "      response: {\n",
              "        action: 'complete',\n",
              "      }\n",
              "    };\n",
              "  }\n",
              "\n",
              "  for (const file of files) {\n",
              "    const li = document.createElement('li');\n",
              "    li.append(span(file.name, {fontWeight: 'bold'}));\n",
              "    li.append(span(\n",
              "        `(${file.type || 'n/a'}) - ${file.size} bytes, ` +\n",
              "        `last modified: ${\n",
              "            file.lastModifiedDate ? file.lastModifiedDate.toLocaleDateString() :\n",
              "                                    'n/a'} - `));\n",
              "    const percent = span('0% done');\n",
              "    li.appendChild(percent);\n",
              "\n",
              "    outputElement.appendChild(li);\n",
              "\n",
              "    const fileDataPromise = new Promise((resolve) => {\n",
              "      const reader = new FileReader();\n",
              "      reader.onload = (e) => {\n",
              "        resolve(e.target.result);\n",
              "      };\n",
              "      reader.readAsArrayBuffer(file);\n",
              "    });\n",
              "    // Wait for the data to be ready.\n",
              "    let fileData = yield {\n",
              "      promise: fileDataPromise,\n",
              "      response: {\n",
              "        action: 'continue',\n",
              "      }\n",
              "    };\n",
              "\n",
              "    // Use a chunked sending to avoid message size limits. See b/62115660.\n",
              "    let position = 0;\n",
              "    do {\n",
              "      const length = Math.min(fileData.byteLength - position, MAX_PAYLOAD_SIZE);\n",
              "      const chunk = new Uint8Array(fileData, position, length);\n",
              "      position += length;\n",
              "\n",
              "      const base64 = btoa(String.fromCharCode.apply(null, chunk));\n",
              "      yield {\n",
              "        response: {\n",
              "          action: 'append',\n",
              "          file: file.name,\n",
              "          data: base64,\n",
              "        },\n",
              "      };\n",
              "\n",
              "      let percentDone = fileData.byteLength === 0 ?\n",
              "          100 :\n",
              "          Math.round((position / fileData.byteLength) * 100);\n",
              "      percent.textContent = `${percentDone}% done`;\n",
              "\n",
              "    } while (position < fileData.byteLength);\n",
              "  }\n",
              "\n",
              "  // All done.\n",
              "  yield {\n",
              "    response: {\n",
              "      action: 'complete',\n",
              "    }\n",
              "  };\n",
              "}\n",
              "\n",
              "scope.google = scope.google || {};\n",
              "scope.google.colab = scope.google.colab || {};\n",
              "scope.google.colab._files = {\n",
              "  _uploadFiles,\n",
              "  _uploadFilesContinue,\n",
              "};\n",
              "})(self);\n",
              "</script> "
            ]
          },
          "metadata": {}
        },
        {
          "output_type": "stream",
          "name": "stdout",
          "text": [
            "Saving ArticlesApril2018.csv to ArticlesApril2018.csv\n",
            "User uploaded file \"ArticlesApril2018.csv\" with length 692963 bytes\n"
          ]
        }
      ]
    },
    {
      "cell_type": "code",
      "metadata": {
        "colab": {
          "base_uri": "https://localhost:8080/",
          "height": 660
        },
        "id": "BhA4cyOgGrTP",
        "outputId": "921df451-b0f0-437e-d534-63b280aa4f3d"
      },
      "source": [
        "df = pd.read_csv('ArticlesApril2018.csv')\n",
        "df.head()"
      ],
      "execution_count": 24,
      "outputs": [
        {
          "output_type": "execute_result",
          "data": {
            "text/plain": [
              "                  articleID  articleWordCount  \\\n",
              "0  5adf6684068401528a2aa69b               781   \n",
              "1  5adf653f068401528a2aa697               656   \n",
              "2  5adf4626068401528a2aa628              2427   \n",
              "3  5adf40d2068401528a2aa619               626   \n",
              "4  5adf3d64068401528a2aa60f               815   \n",
              "\n",
              "                                      byline documentType  \\\n",
              "0                             By JOHN BRANCH      article   \n",
              "1                           By LISA FRIEDMAN      article   \n",
              "2                              By PETE WELLS      article   \n",
              "3  By JULIE HIRSCHFELD DAVIS and PETER BAKER      article   \n",
              "4             By IAN AUSTEN and DAN BILEFSKY      article   \n",
              "\n",
              "                                            headline  \\\n",
              "0  Former N.F.L. Cheerleaders’ Settlement Offer: ...   \n",
              "1  E.P.A. to Unveil a New Rule. Its Effect: Less ...   \n",
              "2                            The New Noma, Explained   \n",
              "3                                            Unknown   \n",
              "4                                            Unknown   \n",
              "\n",
              "                                            keywords  multimedia     newDesk  \\\n",
              "0  ['Workplace Hazards and Violations', 'Football...          68      Sports   \n",
              "1  ['Environmental Protection Agency', 'Pruitt, S...          68     Climate   \n",
              "2  ['Restaurants', 'Noma (Copenhagen, Restaurant)...          66      Dining   \n",
              "3  ['Macron, Emmanuel (1977- )', 'Trump, Donald J...          68  Washington   \n",
              "4  ['Toronto, Ontario, Attack (April, 2018)', 'Mu...          68     Foreign   \n",
              "\n",
              "   printPage              pubDate   sectionName  \\\n",
              "0          0  2018-04-24 17:16:49  Pro Football   \n",
              "1          0  2018-04-24 17:11:21       Unknown   \n",
              "2          0  2018-04-24 14:58:44       Unknown   \n",
              "3          0  2018-04-24 14:35:57        Europe   \n",
              "4          0  2018-04-24 14:21:21        Canada   \n",
              "\n",
              "                                             snippet              source  \\\n",
              "0  “I understand that they could meet with us, pa...  The New York Times   \n",
              "1  The agency plans to publish a new regulation T...  The New York Times   \n",
              "2  What’s it like to eat at the second incarnatio...  The New York Times   \n",
              "3  President Trump welcomed President Emmanuel Ma...  The New York Times   \n",
              "4  Alek Minassian, 25, a resident of Toronto’s Ri...  The New York Times   \n",
              "\n",
              "  typeOfMaterial                                             webURL  \n",
              "0           News  https://www.nytimes.com/2018/04/24/sports/foot...  \n",
              "1           News  https://www.nytimes.com/2018/04/24/climate/epa...  \n",
              "2           News  https://www.nytimes.com/2018/04/24/dining/noma...  \n",
              "3           News  https://www.nytimes.com/2018/04/24/world/europ...  \n",
              "4           News  https://www.nytimes.com/2018/04/24/world/canad...  "
            ],
            "text/html": [
              "\n",
              "  <div id=\"df-3c592f75-439e-4deb-aca4-2e9e498567a0\" class=\"colab-df-container\">\n",
              "    <div>\n",
              "<style scoped>\n",
              "    .dataframe tbody tr th:only-of-type {\n",
              "        vertical-align: middle;\n",
              "    }\n",
              "\n",
              "    .dataframe tbody tr th {\n",
              "        vertical-align: top;\n",
              "    }\n",
              "\n",
              "    .dataframe thead th {\n",
              "        text-align: right;\n",
              "    }\n",
              "</style>\n",
              "<table border=\"1\" class=\"dataframe\">\n",
              "  <thead>\n",
              "    <tr style=\"text-align: right;\">\n",
              "      <th></th>\n",
              "      <th>articleID</th>\n",
              "      <th>articleWordCount</th>\n",
              "      <th>byline</th>\n",
              "      <th>documentType</th>\n",
              "      <th>headline</th>\n",
              "      <th>keywords</th>\n",
              "      <th>multimedia</th>\n",
              "      <th>newDesk</th>\n",
              "      <th>printPage</th>\n",
              "      <th>pubDate</th>\n",
              "      <th>sectionName</th>\n",
              "      <th>snippet</th>\n",
              "      <th>source</th>\n",
              "      <th>typeOfMaterial</th>\n",
              "      <th>webURL</th>\n",
              "    </tr>\n",
              "  </thead>\n",
              "  <tbody>\n",
              "    <tr>\n",
              "      <th>0</th>\n",
              "      <td>5adf6684068401528a2aa69b</td>\n",
              "      <td>781</td>\n",
              "      <td>By JOHN BRANCH</td>\n",
              "      <td>article</td>\n",
              "      <td>Former N.F.L. Cheerleaders’ Settlement Offer: ...</td>\n",
              "      <td>['Workplace Hazards and Violations', 'Football...</td>\n",
              "      <td>68</td>\n",
              "      <td>Sports</td>\n",
              "      <td>0</td>\n",
              "      <td>2018-04-24 17:16:49</td>\n",
              "      <td>Pro Football</td>\n",
              "      <td>“I understand that they could meet with us, pa...</td>\n",
              "      <td>The New York Times</td>\n",
              "      <td>News</td>\n",
              "      <td>https://www.nytimes.com/2018/04/24/sports/foot...</td>\n",
              "    </tr>\n",
              "    <tr>\n",
              "      <th>1</th>\n",
              "      <td>5adf653f068401528a2aa697</td>\n",
              "      <td>656</td>\n",
              "      <td>By LISA FRIEDMAN</td>\n",
              "      <td>article</td>\n",
              "      <td>E.P.A. to Unveil a New Rule. Its Effect: Less ...</td>\n",
              "      <td>['Environmental Protection Agency', 'Pruitt, S...</td>\n",
              "      <td>68</td>\n",
              "      <td>Climate</td>\n",
              "      <td>0</td>\n",
              "      <td>2018-04-24 17:11:21</td>\n",
              "      <td>Unknown</td>\n",
              "      <td>The agency plans to publish a new regulation T...</td>\n",
              "      <td>The New York Times</td>\n",
              "      <td>News</td>\n",
              "      <td>https://www.nytimes.com/2018/04/24/climate/epa...</td>\n",
              "    </tr>\n",
              "    <tr>\n",
              "      <th>2</th>\n",
              "      <td>5adf4626068401528a2aa628</td>\n",
              "      <td>2427</td>\n",
              "      <td>By PETE WELLS</td>\n",
              "      <td>article</td>\n",
              "      <td>The New Noma, Explained</td>\n",
              "      <td>['Restaurants', 'Noma (Copenhagen, Restaurant)...</td>\n",
              "      <td>66</td>\n",
              "      <td>Dining</td>\n",
              "      <td>0</td>\n",
              "      <td>2018-04-24 14:58:44</td>\n",
              "      <td>Unknown</td>\n",
              "      <td>What’s it like to eat at the second incarnatio...</td>\n",
              "      <td>The New York Times</td>\n",
              "      <td>News</td>\n",
              "      <td>https://www.nytimes.com/2018/04/24/dining/noma...</td>\n",
              "    </tr>\n",
              "    <tr>\n",
              "      <th>3</th>\n",
              "      <td>5adf40d2068401528a2aa619</td>\n",
              "      <td>626</td>\n",
              "      <td>By JULIE HIRSCHFELD DAVIS and PETER BAKER</td>\n",
              "      <td>article</td>\n",
              "      <td>Unknown</td>\n",
              "      <td>['Macron, Emmanuel (1977- )', 'Trump, Donald J...</td>\n",
              "      <td>68</td>\n",
              "      <td>Washington</td>\n",
              "      <td>0</td>\n",
              "      <td>2018-04-24 14:35:57</td>\n",
              "      <td>Europe</td>\n",
              "      <td>President Trump welcomed President Emmanuel Ma...</td>\n",
              "      <td>The New York Times</td>\n",
              "      <td>News</td>\n",
              "      <td>https://www.nytimes.com/2018/04/24/world/europ...</td>\n",
              "    </tr>\n",
              "    <tr>\n",
              "      <th>4</th>\n",
              "      <td>5adf3d64068401528a2aa60f</td>\n",
              "      <td>815</td>\n",
              "      <td>By IAN AUSTEN and DAN BILEFSKY</td>\n",
              "      <td>article</td>\n",
              "      <td>Unknown</td>\n",
              "      <td>['Toronto, Ontario, Attack (April, 2018)', 'Mu...</td>\n",
              "      <td>68</td>\n",
              "      <td>Foreign</td>\n",
              "      <td>0</td>\n",
              "      <td>2018-04-24 14:21:21</td>\n",
              "      <td>Canada</td>\n",
              "      <td>Alek Minassian, 25, a resident of Toronto’s Ri...</td>\n",
              "      <td>The New York Times</td>\n",
              "      <td>News</td>\n",
              "      <td>https://www.nytimes.com/2018/04/24/world/canad...</td>\n",
              "    </tr>\n",
              "  </tbody>\n",
              "</table>\n",
              "</div>\n",
              "    <div class=\"colab-df-buttons\">\n",
              "\n",
              "  <div class=\"colab-df-container\">\n",
              "    <button class=\"colab-df-convert\" onclick=\"convertToInteractive('df-3c592f75-439e-4deb-aca4-2e9e498567a0')\"\n",
              "            title=\"Convert this dataframe to an interactive table.\"\n",
              "            style=\"display:none;\">\n",
              "\n",
              "  <svg xmlns=\"http://www.w3.org/2000/svg\" height=\"24px\" viewBox=\"0 -960 960 960\">\n",
              "    <path d=\"M120-120v-720h720v720H120Zm60-500h600v-160H180v160Zm220 220h160v-160H400v160Zm0 220h160v-160H400v160ZM180-400h160v-160H180v160Zm440 0h160v-160H620v160ZM180-180h160v-160H180v160Zm440 0h160v-160H620v160Z\"/>\n",
              "  </svg>\n",
              "    </button>\n",
              "\n",
              "  <style>\n",
              "    .colab-df-container {\n",
              "      display:flex;\n",
              "      gap: 12px;\n",
              "    }\n",
              "\n",
              "    .colab-df-convert {\n",
              "      background-color: #E8F0FE;\n",
              "      border: none;\n",
              "      border-radius: 50%;\n",
              "      cursor: pointer;\n",
              "      display: none;\n",
              "      fill: #1967D2;\n",
              "      height: 32px;\n",
              "      padding: 0 0 0 0;\n",
              "      width: 32px;\n",
              "    }\n",
              "\n",
              "    .colab-df-convert:hover {\n",
              "      background-color: #E2EBFA;\n",
              "      box-shadow: 0px 1px 2px rgba(60, 64, 67, 0.3), 0px 1px 3px 1px rgba(60, 64, 67, 0.15);\n",
              "      fill: #174EA6;\n",
              "    }\n",
              "\n",
              "    .colab-df-buttons div {\n",
              "      margin-bottom: 4px;\n",
              "    }\n",
              "\n",
              "    [theme=dark] .colab-df-convert {\n",
              "      background-color: #3B4455;\n",
              "      fill: #D2E3FC;\n",
              "    }\n",
              "\n",
              "    [theme=dark] .colab-df-convert:hover {\n",
              "      background-color: #434B5C;\n",
              "      box-shadow: 0px 1px 3px 1px rgba(0, 0, 0, 0.15);\n",
              "      filter: drop-shadow(0px 1px 2px rgba(0, 0, 0, 0.3));\n",
              "      fill: #FFFFFF;\n",
              "    }\n",
              "  </style>\n",
              "\n",
              "    <script>\n",
              "      const buttonEl =\n",
              "        document.querySelector('#df-3c592f75-439e-4deb-aca4-2e9e498567a0 button.colab-df-convert');\n",
              "      buttonEl.style.display =\n",
              "        google.colab.kernel.accessAllowed ? 'block' : 'none';\n",
              "\n",
              "      async function convertToInteractive(key) {\n",
              "        const element = document.querySelector('#df-3c592f75-439e-4deb-aca4-2e9e498567a0');\n",
              "        const dataTable =\n",
              "          await google.colab.kernel.invokeFunction('convertToInteractive',\n",
              "                                                    [key], {});\n",
              "        if (!dataTable) return;\n",
              "\n",
              "        const docLinkHtml = 'Like what you see? Visit the ' +\n",
              "          '<a target=\"_blank\" href=https://colab.research.google.com/notebooks/data_table.ipynb>data table notebook</a>'\n",
              "          + ' to learn more about interactive tables.';\n",
              "        element.innerHTML = '';\n",
              "        dataTable['output_type'] = 'display_data';\n",
              "        await google.colab.output.renderOutput(dataTable, element);\n",
              "        const docLink = document.createElement('div');\n",
              "        docLink.innerHTML = docLinkHtml;\n",
              "        element.appendChild(docLink);\n",
              "      }\n",
              "    </script>\n",
              "  </div>\n",
              "\n",
              "\n",
              "<div id=\"df-5ecae60e-490d-41a3-ab0d-53a9c7b91f8d\">\n",
              "  <button class=\"colab-df-quickchart\" onclick=\"quickchart('df-5ecae60e-490d-41a3-ab0d-53a9c7b91f8d')\"\n",
              "            title=\"Suggest charts\"\n",
              "            style=\"display:none;\">\n",
              "\n",
              "<svg xmlns=\"http://www.w3.org/2000/svg\" height=\"24px\"viewBox=\"0 0 24 24\"\n",
              "     width=\"24px\">\n",
              "    <g>\n",
              "        <path d=\"M19 3H5c-1.1 0-2 .9-2 2v14c0 1.1.9 2 2 2h14c1.1 0 2-.9 2-2V5c0-1.1-.9-2-2-2zM9 17H7v-7h2v7zm4 0h-2V7h2v10zm4 0h-2v-4h2v4z\"/>\n",
              "    </g>\n",
              "</svg>\n",
              "  </button>\n",
              "\n",
              "<style>\n",
              "  .colab-df-quickchart {\n",
              "      --bg-color: #E8F0FE;\n",
              "      --fill-color: #1967D2;\n",
              "      --hover-bg-color: #E2EBFA;\n",
              "      --hover-fill-color: #174EA6;\n",
              "      --disabled-fill-color: #AAA;\n",
              "      --disabled-bg-color: #DDD;\n",
              "  }\n",
              "\n",
              "  [theme=dark] .colab-df-quickchart {\n",
              "      --bg-color: #3B4455;\n",
              "      --fill-color: #D2E3FC;\n",
              "      --hover-bg-color: #434B5C;\n",
              "      --hover-fill-color: #FFFFFF;\n",
              "      --disabled-bg-color: #3B4455;\n",
              "      --disabled-fill-color: #666;\n",
              "  }\n",
              "\n",
              "  .colab-df-quickchart {\n",
              "    background-color: var(--bg-color);\n",
              "    border: none;\n",
              "    border-radius: 50%;\n",
              "    cursor: pointer;\n",
              "    display: none;\n",
              "    fill: var(--fill-color);\n",
              "    height: 32px;\n",
              "    padding: 0;\n",
              "    width: 32px;\n",
              "  }\n",
              "\n",
              "  .colab-df-quickchart:hover {\n",
              "    background-color: var(--hover-bg-color);\n",
              "    box-shadow: 0 1px 2px rgba(60, 64, 67, 0.3), 0 1px 3px 1px rgba(60, 64, 67, 0.15);\n",
              "    fill: var(--button-hover-fill-color);\n",
              "  }\n",
              "\n",
              "  .colab-df-quickchart-complete:disabled,\n",
              "  .colab-df-quickchart-complete:disabled:hover {\n",
              "    background-color: var(--disabled-bg-color);\n",
              "    fill: var(--disabled-fill-color);\n",
              "    box-shadow: none;\n",
              "  }\n",
              "\n",
              "  .colab-df-spinner {\n",
              "    border: 2px solid var(--fill-color);\n",
              "    border-color: transparent;\n",
              "    border-bottom-color: var(--fill-color);\n",
              "    animation:\n",
              "      spin 1s steps(1) infinite;\n",
              "  }\n",
              "\n",
              "  @keyframes spin {\n",
              "    0% {\n",
              "      border-color: transparent;\n",
              "      border-bottom-color: var(--fill-color);\n",
              "      border-left-color: var(--fill-color);\n",
              "    }\n",
              "    20% {\n",
              "      border-color: transparent;\n",
              "      border-left-color: var(--fill-color);\n",
              "      border-top-color: var(--fill-color);\n",
              "    }\n",
              "    30% {\n",
              "      border-color: transparent;\n",
              "      border-left-color: var(--fill-color);\n",
              "      border-top-color: var(--fill-color);\n",
              "      border-right-color: var(--fill-color);\n",
              "    }\n",
              "    40% {\n",
              "      border-color: transparent;\n",
              "      border-right-color: var(--fill-color);\n",
              "      border-top-color: var(--fill-color);\n",
              "    }\n",
              "    60% {\n",
              "      border-color: transparent;\n",
              "      border-right-color: var(--fill-color);\n",
              "    }\n",
              "    80% {\n",
              "      border-color: transparent;\n",
              "      border-right-color: var(--fill-color);\n",
              "      border-bottom-color: var(--fill-color);\n",
              "    }\n",
              "    90% {\n",
              "      border-color: transparent;\n",
              "      border-bottom-color: var(--fill-color);\n",
              "    }\n",
              "  }\n",
              "</style>\n",
              "\n",
              "  <script>\n",
              "    async function quickchart(key) {\n",
              "      const quickchartButtonEl =\n",
              "        document.querySelector('#' + key + ' button');\n",
              "      quickchartButtonEl.disabled = true;  // To prevent multiple clicks.\n",
              "      quickchartButtonEl.classList.add('colab-df-spinner');\n",
              "      try {\n",
              "        const charts = await google.colab.kernel.invokeFunction(\n",
              "            'suggestCharts', [key], {});\n",
              "      } catch (error) {\n",
              "        console.error('Error during call to suggestCharts:', error);\n",
              "      }\n",
              "      quickchartButtonEl.classList.remove('colab-df-spinner');\n",
              "      quickchartButtonEl.classList.add('colab-df-quickchart-complete');\n",
              "    }\n",
              "    (() => {\n",
              "      let quickchartButtonEl =\n",
              "        document.querySelector('#df-5ecae60e-490d-41a3-ab0d-53a9c7b91f8d button');\n",
              "      quickchartButtonEl.style.display =\n",
              "        google.colab.kernel.accessAllowed ? 'block' : 'none';\n",
              "    })();\n",
              "  </script>\n",
              "</div>\n",
              "\n",
              "    </div>\n",
              "  </div>\n"
            ],
            "application/vnd.google.colaboratory.intrinsic+json": {
              "type": "dataframe",
              "variable_name": "df",
              "summary": "{\n  \"name\": \"df\",\n  \"rows\": 1324,\n  \"fields\": [\n    {\n      \"column\": \"articleID\",\n      \"properties\": {\n        \"dtype\": \"string\",\n        \"num_unique_values\": 1324,\n        \"samples\": [\n          \"5ad7d983068401528a2a978d\",\n          \"5ac1f11c068401528a2a0a5c\",\n          \"5ae203e8068401528a2aae23\"\n        ],\n        \"semantic_type\": \"\",\n        \"description\": \"\"\n      }\n    },\n    {\n      \"column\": \"articleWordCount\",\n      \"properties\": {\n        \"dtype\": \"number\",\n        \"std\": 819,\n        \"min\": 53,\n        \"max\": 9887,\n        \"num_unique_values\": 934,\n        \"samples\": [\n          1472,\n          1691,\n          336\n        ],\n        \"semantic_type\": \"\",\n        \"description\": \"\"\n      }\n    },\n    {\n      \"column\": \"byline\",\n      \"properties\": {\n        \"dtype\": \"string\",\n        \"num_unique_values\": 766,\n        \"samples\": [\n          \"By ROBERTA SMITH\",\n          \"By INGER E. BURNETT-ZEIGLER\",\n          \"By SAMANTHA STARK\"\n        ],\n        \"semantic_type\": \"\",\n        \"description\": \"\"\n      }\n    },\n    {\n      \"column\": \"documentType\",\n      \"properties\": {\n        \"dtype\": \"category\",\n        \"num_unique_values\": 1,\n        \"samples\": [\n          \"article\"\n        ],\n        \"semantic_type\": \"\",\n        \"description\": \"\"\n      }\n    },\n    {\n      \"column\": \"headline\",\n      \"properties\": {\n        \"dtype\": \"string\",\n        \"num_unique_values\": 1213,\n        \"samples\": [\n          \"Cambridge Analytica and the Coming Data Bust\"\n        ],\n        \"semantic_type\": \"\",\n        \"description\": \"\"\n      }\n    },\n    {\n      \"column\": \"keywords\",\n      \"properties\": {\n        \"dtype\": \"string\",\n        \"num_unique_values\": 1168,\n        \"samples\": [\n          \"['Blockchain (Technology)', 'Computer Security', 'Privacy', 'Bitcoin (Currency)', 'Virtual Currency', 'Facebook Inc', 'Berners-Lee, Tim', 'Tusk, Bradley (1973- )']\"\n        ],\n        \"semantic_type\": \"\",\n        \"description\": \"\"\n      }\n    },\n    {\n      \"column\": \"multimedia\",\n      \"properties\": {\n        \"dtype\": \"number\",\n        \"std\": 10,\n        \"min\": 0,\n        \"max\": 68,\n        \"num_unique_values\": 19,\n        \"samples\": [\n          68\n        ],\n        \"semantic_type\": \"\",\n        \"description\": \"\"\n      }\n    },\n    {\n      \"column\": \"newDesk\",\n      \"properties\": {\n        \"dtype\": \"category\",\n        \"num_unique_values\": 39,\n        \"samples\": [\n          \"Obits\"\n        ],\n        \"semantic_type\": \"\",\n        \"description\": \"\"\n      }\n    },\n    {\n      \"column\": \"printPage\",\n      \"properties\": {\n        \"dtype\": \"number\",\n        \"std\": 9,\n        \"min\": 0,\n        \"max\": 109,\n        \"num_unique_values\": 42,\n        \"samples\": [\n          8\n        ],\n        \"semantic_type\": \"\",\n        \"description\": \"\"\n      }\n    },\n    {\n      \"column\": \"pubDate\",\n      \"properties\": {\n        \"dtype\": \"object\",\n        \"num_unique_values\": 1228,\n        \"samples\": [\n          \"2018-04-02 09:00:01\"\n        ],\n        \"semantic_type\": \"\",\n        \"description\": \"\"\n      }\n    },\n    {\n      \"column\": \"sectionName\",\n      \"properties\": {\n        \"dtype\": \"category\",\n        \"num_unique_values\": 36,\n        \"samples\": [\n          \"Soccer\"\n        ],\n        \"semantic_type\": \"\",\n        \"description\": \"\"\n      }\n    },\n    {\n      \"column\": \"snippet\",\n      \"properties\": {\n        \"dtype\": \"string\",\n        \"num_unique_values\": 1314,\n        \"samples\": [\n          \"Why decent societies let families defy the system to take care of their own.\"\n        ],\n        \"semantic_type\": \"\",\n        \"description\": \"\"\n      }\n    },\n    {\n      \"column\": \"source\",\n      \"properties\": {\n        \"dtype\": \"category\",\n        \"num_unique_values\": 2,\n        \"samples\": [\n          \"International New York Times\"\n        ],\n        \"semantic_type\": \"\",\n        \"description\": \"\"\n      }\n    },\n    {\n      \"column\": \"typeOfMaterial\",\n      \"properties\": {\n        \"dtype\": \"category\",\n        \"num_unique_values\": 8,\n        \"samples\": [\n          \"briefing\"\n        ],\n        \"semantic_type\": \"\",\n        \"description\": \"\"\n      }\n    },\n    {\n      \"column\": \"webURL\",\n      \"properties\": {\n        \"dtype\": \"string\",\n        \"num_unique_values\": 1324,\n        \"samples\": [\n          \"https://www.nytimes.com/2018/04/18/opinion/cynthia-nixon-cuomo-primary.html\"\n        ],\n        \"semantic_type\": \"\",\n        \"description\": \"\"\n      }\n    }\n  ]\n}"
            }
          },
          "metadata": {},
          "execution_count": 24
        }
      ]
    },
    {
      "cell_type": "code",
      "metadata": {
        "colab": {
          "base_uri": "https://localhost:8080/"
        },
        "id": "zMugfN6GGtNH",
        "outputId": "d8853896-bfeb-4a65-8c44-45c9a88b077f"
      },
      "source": [
        "print('열의 개수: ',len(df.columns))\n",
        "print(df.columns)"
      ],
      "execution_count": 25,
      "outputs": [
        {
          "output_type": "stream",
          "name": "stdout",
          "text": [
            "열의 개수:  15\n",
            "Index(['articleID', 'articleWordCount', 'byline', 'documentType', 'headline',\n",
            "       'keywords', 'multimedia', 'newDesk', 'printPage', 'pubDate',\n",
            "       'sectionName', 'snippet', 'source', 'typeOfMaterial', 'webURL'],\n",
            "      dtype='object')\n"
          ]
        }
      ]
    },
    {
      "cell_type": "code",
      "metadata": {
        "colab": {
          "base_uri": "https://localhost:8080/"
        },
        "id": "RNK4ABDtGyMH",
        "outputId": "8db21e05-939a-47e8-c20e-55bfc088227e"
      },
      "source": [
        "print(df['headline'].isnull().values.any())"
      ],
      "execution_count": 26,
      "outputs": [
        {
          "output_type": "stream",
          "name": "stdout",
          "text": [
            "False\n"
          ]
        }
      ]
    },
    {
      "cell_type": "code",
      "metadata": {
        "colab": {
          "base_uri": "https://localhost:8080/"
        },
        "id": "EGeLDG7EGz7P",
        "outputId": "6e67086e-c7a1-4fd9-afb0-bf017545d5cf"
      },
      "source": [
        "headline = []\n",
        "# 헤드라인의 값들을 리스트로 저장\n",
        "headline.extend(list(df.headline.values))\n",
        "headline[:5]"
      ],
      "execution_count": 27,
      "outputs": [
        {
          "output_type": "execute_result",
          "data": {
            "text/plain": [
              "['Former N.F.L. Cheerleaders’ Settlement Offer: $1 and a Meeting With Goodell',\n",
              " 'E.P.A. to Unveil a New Rule. Its Effect: Less Science in Policymaking.',\n",
              " 'The New Noma, Explained',\n",
              " 'Unknown',\n",
              " 'Unknown']"
            ]
          },
          "metadata": {},
          "execution_count": 27
        }
      ]
    },
    {
      "cell_type": "code",
      "metadata": {
        "colab": {
          "base_uri": "https://localhost:8080/"
        },
        "id": "379FN70HG2XX",
        "outputId": "c50622eb-1563-4fe9-bfbb-727999bf3400"
      },
      "source": [
        "print('총 샘플의 개수 : {}'.format(len(headline))) # 현재 샘플의 개수"
      ],
      "execution_count": 28,
      "outputs": [
        {
          "output_type": "stream",
          "name": "stdout",
          "text": [
            "총 샘플의 개수 : 1324\n"
          ]
        }
      ]
    },
    {
      "cell_type": "code",
      "metadata": {
        "colab": {
          "base_uri": "https://localhost:8080/"
        },
        "id": "zy8-4-AyG9Hv",
        "outputId": "bf91d40f-0980-4773-9ad0-118e09bb1e1c"
      },
      "source": [
        " # Unknown 값을 가진 샘플 제거\n",
        "headline = [word for word in headline if word != \"Unknown\"]\n",
        "print('노이즈값 제거 후 샘플의 개수 : {}'.format(len(headline)))"
      ],
      "execution_count": 29,
      "outputs": [
        {
          "output_type": "stream",
          "name": "stdout",
          "text": [
            "노이즈값 제거 후 샘플의 개수 : 1214\n"
          ]
        }
      ]
    },
    {
      "cell_type": "code",
      "metadata": {
        "colab": {
          "base_uri": "https://localhost:8080/"
        },
        "id": "pLGQ7s_2G_3W",
        "outputId": "60805316-8636-40cf-f00e-e9ff628e77c0"
      },
      "source": [
        "def repreprocessing(raw_sentence):\n",
        "    preproceseed_sentence = raw_sentence.encode(\"utf8\").decode(\"ascii\",'ignore')\n",
        "    # 구두점 제거와 동시에 소문자화\n",
        "    return ''.join(word for word in preproceseed_sentence if word not in punctuation).lower()\n",
        "\n",
        "preporcessed_headline = [repreprocessing(x) for x in headline]\n",
        "preporcessed_headline[:5]"
      ],
      "execution_count": 30,
      "outputs": [
        {
          "output_type": "execute_result",
          "data": {
            "text/plain": [
              "['former nfl cheerleaders settlement offer 1 and a meeting with goodell',\n",
              " 'epa to unveil a new rule its effect less science in policymaking',\n",
              " 'the new noma explained',\n",
              " 'how a bag of texas dirt  became a times tradition',\n",
              " 'is school a place for selfexpression']"
            ]
          },
          "metadata": {},
          "execution_count": 30
        }
      ]
    },
    {
      "cell_type": "code",
      "metadata": {
        "colab": {
          "base_uri": "https://localhost:8080/"
        },
        "id": "18-SLG1YHFb3",
        "outputId": "f399fec6-16d3-49a2-d342-2af11e5b6138"
      },
      "source": [
        "tokenizer = Tokenizer()\n",
        "tokenizer.fit_on_texts(preporcessed_headline)\n",
        "vocab_size = len(tokenizer.word_index) + 1\n",
        "print('단어 집합의 크기 : %d' % vocab_size)"
      ],
      "execution_count": 31,
      "outputs": [
        {
          "output_type": "stream",
          "name": "stdout",
          "text": [
            "단어 집합의 크기 : 3494\n"
          ]
        }
      ]
    },
    {
      "cell_type": "code",
      "metadata": {
        "colab": {
          "base_uri": "https://localhost:8080/"
        },
        "id": "_9PRhbYzHmrX",
        "outputId": "e69c4444-f53d-4687-d704-17ac2741b56f"
      },
      "source": [
        "sequences = list()\n",
        "\n",
        "for sentence in preporcessed_headline:\n",
        "\n",
        "    # 각 샘플에 대한 정수 인코딩\n",
        "    encoded = tokenizer.texts_to_sequences([sentence])[0]\n",
        "    for i in range(1, len(encoded)):\n",
        "        sequence = encoded[:i+1]\n",
        "        sequences.append(sequence)\n",
        "\n",
        "sequences[:11]"
      ],
      "execution_count": 32,
      "outputs": [
        {
          "output_type": "execute_result",
          "data": {
            "text/plain": [
              "[[99, 269],\n",
              " [99, 269, 371],\n",
              " [99, 269, 371, 1115],\n",
              " [99, 269, 371, 1115, 582],\n",
              " [99, 269, 371, 1115, 582, 52],\n",
              " [99, 269, 371, 1115, 582, 52, 7],\n",
              " [99, 269, 371, 1115, 582, 52, 7, 2],\n",
              " [99, 269, 371, 1115, 582, 52, 7, 2, 372],\n",
              " [99, 269, 371, 1115, 582, 52, 7, 2, 372, 10],\n",
              " [99, 269, 371, 1115, 582, 52, 7, 2, 372, 10, 1116],\n",
              " [100, 3]]"
            ]
          },
          "metadata": {},
          "execution_count": 32
        }
      ]
    },
    {
      "cell_type": "code",
      "metadata": {
        "colab": {
          "base_uri": "https://localhost:8080/"
        },
        "id": "uB9VhghgH4Uf",
        "outputId": "9e460b48-1bf2-4af3-e85e-e37d0b4225f5"
      },
      "source": [
        "index_to_word = {}\n",
        "for key, value in tokenizer.word_index.items(): # 인덱스를 단어로 바꾸기 위해 index_to_word를 생성\n",
        "    index_to_word[value] = key\n",
        "\n",
        "print('빈도수 상위 582번 단어 : {}'.format(index_to_word[582]))"
      ],
      "execution_count": 33,
      "outputs": [
        {
          "output_type": "stream",
          "name": "stdout",
          "text": [
            "빈도수 상위 582번 단어 : offer\n"
          ]
        }
      ]
    },
    {
      "cell_type": "code",
      "metadata": {
        "colab": {
          "base_uri": "https://localhost:8080/"
        },
        "id": "1DFDdcHXIO03",
        "outputId": "88740566-e982-499f-a93a-2ec678db568d"
      },
      "source": [
        "max_len = max(len(l) for l in sequences)\n",
        "print('샘플의 최대 길이 : {}'.format(max_len))"
      ],
      "execution_count": 34,
      "outputs": [
        {
          "output_type": "stream",
          "name": "stdout",
          "text": [
            "샘플의 최대 길이 : 24\n"
          ]
        }
      ]
    },
    {
      "cell_type": "code",
      "metadata": {
        "colab": {
          "base_uri": "https://localhost:8080/"
        },
        "id": "gI_BNPqGIUNv",
        "outputId": "f4e8cf5e-732d-4782-b695-4195624758b1"
      },
      "source": [
        "sequences = pad_sequences(sequences, maxlen=max_len, padding='pre')\n",
        "print(sequences[:3])"
      ],
      "execution_count": 35,
      "outputs": [
        {
          "output_type": "stream",
          "name": "stdout",
          "text": [
            "[[   0    0    0    0    0    0    0    0    0    0    0    0    0    0\n",
            "     0    0    0    0    0    0    0    0   99  269]\n",
            " [   0    0    0    0    0    0    0    0    0    0    0    0    0    0\n",
            "     0    0    0    0    0    0    0   99  269  371]\n",
            " [   0    0    0    0    0    0    0    0    0    0    0    0    0    0\n",
            "     0    0    0    0    0    0   99  269  371 1115]]\n"
          ]
        }
      ]
    },
    {
      "cell_type": "code",
      "metadata": {
        "id": "AS_Xeb68IW7n"
      },
      "source": [
        "sequences = np.array(sequences)\n",
        "X = sequences[:,:-1]\n",
        "y = sequences[:,-1]"
      ],
      "execution_count": 36,
      "outputs": []
    },
    {
      "cell_type": "code",
      "metadata": {
        "colab": {
          "base_uri": "https://localhost:8080/"
        },
        "id": "hQxwog4tIZOn",
        "outputId": "717beaa4-46d9-42ba-8fe5-fb2c650242b4"
      },
      "source": [
        "print(X[:3])"
      ],
      "execution_count": 37,
      "outputs": [
        {
          "output_type": "stream",
          "name": "stdout",
          "text": [
            "[[  0   0   0   0   0   0   0   0   0   0   0   0   0   0   0   0   0   0\n",
            "    0   0   0   0  99]\n",
            " [  0   0   0   0   0   0   0   0   0   0   0   0   0   0   0   0   0   0\n",
            "    0   0   0  99 269]\n",
            " [  0   0   0   0   0   0   0   0   0   0   0   0   0   0   0   0   0   0\n",
            "    0   0  99 269 371]]\n"
          ]
        }
      ]
    },
    {
      "cell_type": "code",
      "metadata": {
        "colab": {
          "base_uri": "https://localhost:8080/"
        },
        "id": "ymQ9On9bIZ8f",
        "outputId": "ab14b04e-cba9-4d34-9c4c-99a5a297c046"
      },
      "source": [
        "print(y[:3])"
      ],
      "execution_count": 38,
      "outputs": [
        {
          "output_type": "stream",
          "name": "stdout",
          "text": [
            "[ 269  371 1115]\n"
          ]
        }
      ]
    },
    {
      "cell_type": "code",
      "metadata": {
        "id": "BfI0f9ChIbbP"
      },
      "source": [
        "y = to_categorical(y, num_classes=vocab_size)"
      ],
      "execution_count": 39,
      "outputs": []
    },
    {
      "cell_type": "code",
      "metadata": {
        "id": "HqNmAdYJIcUP"
      },
      "source": [
        "from tensorflow.keras.models import Sequential\n",
        "from tensorflow.keras.layers import Embedding, Dense, LSTM"
      ],
      "execution_count": 40,
      "outputs": []
    },
    {
      "cell_type": "code",
      "metadata": {
        "colab": {
          "base_uri": "https://localhost:8080/"
        },
        "id": "dUQE1WpzIkDP",
        "outputId": "0e2a1486-092b-4066-e3dd-61b61ba9a3c6"
      },
      "source": [
        "embedding_dim = 10\n",
        "hidden_units = 128\n",
        "\n",
        "model = Sequential()\n",
        "model.add(Embedding(vocab_size, embedding_dim))\n",
        "model.add(LSTM(hidden_units))\n",
        "model.add(Dense(vocab_size, activation='softmax'))\n",
        "model.compile(loss='categorical_crossentropy', optimizer='adam', metrics=['accuracy'])\n",
        "model.fit(X, y, epochs=200, verbose=2)"
      ],
      "execution_count": 41,
      "outputs": [
        {
          "output_type": "stream",
          "name": "stdout",
          "text": [
            "Epoch 1/200\n",
            "244/244 - 5s - 21ms/step - accuracy: 0.0261 - loss: 7.6505\n",
            "Epoch 2/200\n",
            "244/244 - 3s - 12ms/step - accuracy: 0.0304 - loss: 7.1184\n",
            "Epoch 3/200\n",
            "244/244 - 2s - 10ms/step - accuracy: 0.0350 - loss: 6.9832\n",
            "Epoch 4/200\n",
            "244/244 - 1s - 5ms/step - accuracy: 0.0425 - loss: 6.8596\n",
            "Epoch 5/200\n",
            "244/244 - 1s - 5ms/step - accuracy: 0.0442 - loss: 6.7036\n",
            "Epoch 6/200\n",
            "244/244 - 1s - 5ms/step - accuracy: 0.0466 - loss: 6.5165\n",
            "Epoch 7/200\n",
            "244/244 - 1s - 5ms/step - accuracy: 0.0497 - loss: 6.3123\n",
            "Epoch 8/200\n",
            "244/244 - 1s - 5ms/step - accuracy: 0.0556 - loss: 6.1102\n",
            "Epoch 9/200\n",
            "244/244 - 1s - 5ms/step - accuracy: 0.0619 - loss: 5.9184\n",
            "Epoch 10/200\n",
            "244/244 - 1s - 5ms/step - accuracy: 0.0663 - loss: 5.7416\n",
            "Epoch 11/200\n",
            "244/244 - 2s - 7ms/step - accuracy: 0.0697 - loss: 5.5664\n",
            "Epoch 12/200\n",
            "244/244 - 2s - 9ms/step - accuracy: 0.0759 - loss: 5.4067\n",
            "Epoch 13/200\n",
            "244/244 - 1s - 5ms/step - accuracy: 0.0801 - loss: 5.2514\n",
            "Epoch 14/200\n",
            "244/244 - 1s - 5ms/step - accuracy: 0.0870 - loss: 5.1053\n",
            "Epoch 15/200\n",
            "244/244 - 1s - 5ms/step - accuracy: 0.0942 - loss: 4.9630\n",
            "Epoch 16/200\n",
            "244/244 - 1s - 5ms/step - accuracy: 0.1043 - loss: 4.8265\n",
            "Epoch 17/200\n",
            "244/244 - 1s - 5ms/step - accuracy: 0.1155 - loss: 4.6965\n",
            "Epoch 18/200\n",
            "244/244 - 1s - 5ms/step - accuracy: 0.1311 - loss: 4.5674\n",
            "Epoch 19/200\n",
            "244/244 - 1s - 6ms/step - accuracy: 0.1455 - loss: 4.4445\n",
            "Epoch 20/200\n",
            "244/244 - 2s - 7ms/step - accuracy: 0.1626 - loss: 4.3233\n",
            "Epoch 21/200\n",
            "244/244 - 1s - 5ms/step - accuracy: 0.1758 - loss: 4.2059\n",
            "Epoch 22/200\n",
            "244/244 - 2s - 10ms/step - accuracy: 0.1952 - loss: 4.0919\n",
            "Epoch 23/200\n",
            "244/244 - 1s - 5ms/step - accuracy: 0.2133 - loss: 3.9785\n",
            "Epoch 24/200\n",
            "244/244 - 1s - 5ms/step - accuracy: 0.2311 - loss: 3.8723\n",
            "Epoch 25/200\n",
            "244/244 - 1s - 5ms/step - accuracy: 0.2518 - loss: 3.7646\n",
            "Epoch 26/200\n",
            "244/244 - 1s - 5ms/step - accuracy: 0.2700 - loss: 3.6650\n",
            "Epoch 27/200\n",
            "244/244 - 1s - 5ms/step - accuracy: 0.2816 - loss: 3.5662\n",
            "Epoch 28/200\n",
            "244/244 - 2s - 7ms/step - accuracy: 0.3054 - loss: 3.4703\n",
            "Epoch 29/200\n",
            "244/244 - 2s - 9ms/step - accuracy: 0.3210 - loss: 3.3795\n",
            "Epoch 30/200\n",
            "244/244 - 1s - 5ms/step - accuracy: 0.3337 - loss: 3.2883\n",
            "Epoch 31/200\n",
            "244/244 - 1s - 5ms/step - accuracy: 0.3519 - loss: 3.2027\n",
            "Epoch 32/200\n",
            "244/244 - 1s - 5ms/step - accuracy: 0.3699 - loss: 3.1179\n",
            "Epoch 33/200\n",
            "244/244 - 1s - 5ms/step - accuracy: 0.3864 - loss: 3.0391\n",
            "Epoch 34/200\n",
            "244/244 - 1s - 5ms/step - accuracy: 0.3977 - loss: 2.9612\n",
            "Epoch 35/200\n",
            "244/244 - 1s - 5ms/step - accuracy: 0.4148 - loss: 2.8847\n",
            "Epoch 36/200\n",
            "244/244 - 1s - 6ms/step - accuracy: 0.4255 - loss: 2.8098\n",
            "Epoch 37/200\n",
            "244/244 - 2s - 7ms/step - accuracy: 0.4435 - loss: 2.7432\n",
            "Epoch 38/200\n",
            "244/244 - 1s - 5ms/step - accuracy: 0.4561 - loss: 2.6763\n",
            "Epoch 39/200\n",
            "244/244 - 2s - 10ms/step - accuracy: 0.4658 - loss: 2.6110\n",
            "Epoch 40/200\n",
            "244/244 - 1s - 5ms/step - accuracy: 0.4799 - loss: 2.5455\n",
            "Epoch 41/200\n",
            "244/244 - 1s - 5ms/step - accuracy: 0.4937 - loss: 2.4833\n",
            "Epoch 42/200\n",
            "244/244 - 1s - 5ms/step - accuracy: 0.5043 - loss: 2.4254\n",
            "Epoch 43/200\n",
            "244/244 - 1s - 5ms/step - accuracy: 0.5177 - loss: 2.3667\n",
            "Epoch 44/200\n",
            "244/244 - 1s - 5ms/step - accuracy: 0.5322 - loss: 2.3110\n",
            "Epoch 45/200\n",
            "244/244 - 2s - 7ms/step - accuracy: 0.5420 - loss: 2.2567\n",
            "Epoch 46/200\n",
            "244/244 - 2s - 9ms/step - accuracy: 0.5488 - loss: 2.2035\n",
            "Epoch 47/200\n",
            "244/244 - 1s - 5ms/step - accuracy: 0.5638 - loss: 2.1506\n",
            "Epoch 48/200\n",
            "244/244 - 1s - 5ms/step - accuracy: 0.5732 - loss: 2.0989\n",
            "Epoch 49/200\n",
            "244/244 - 1s - 5ms/step - accuracy: 0.5857 - loss: 2.0509\n",
            "Epoch 50/200\n",
            "244/244 - 1s - 5ms/step - accuracy: 0.5926 - loss: 2.0005\n",
            "Epoch 51/200\n",
            "244/244 - 1s - 5ms/step - accuracy: 0.6018 - loss: 1.9564\n",
            "Epoch 52/200\n",
            "244/244 - 1s - 5ms/step - accuracy: 0.6081 - loss: 1.9115\n",
            "Epoch 53/200\n",
            "244/244 - 1s - 6ms/step - accuracy: 0.6232 - loss: 1.8647\n",
            "Epoch 54/200\n",
            "244/244 - 2s - 7ms/step - accuracy: 0.6312 - loss: 1.8221\n",
            "Epoch 55/200\n",
            "244/244 - 1s - 6ms/step - accuracy: 0.6377 - loss: 1.7822\n",
            "Epoch 56/200\n",
            "244/244 - 2s - 10ms/step - accuracy: 0.6519 - loss: 1.7394\n",
            "Epoch 57/200\n",
            "244/244 - 1s - 5ms/step - accuracy: 0.6572 - loss: 1.6978\n",
            "Epoch 58/200\n",
            "244/244 - 1s - 5ms/step - accuracy: 0.6678 - loss: 1.6576\n",
            "Epoch 59/200\n",
            "244/244 - 1s - 5ms/step - accuracy: 0.6750 - loss: 1.6178\n",
            "Epoch 60/200\n",
            "244/244 - 1s - 5ms/step - accuracy: 0.6842 - loss: 1.5811\n",
            "Epoch 61/200\n",
            "244/244 - 1s - 5ms/step - accuracy: 0.6940 - loss: 1.5447\n",
            "Epoch 62/200\n",
            "244/244 - 1s - 6ms/step - accuracy: 0.6995 - loss: 1.5096\n",
            "Epoch 63/200\n",
            "244/244 - 2s - 10ms/step - accuracy: 0.7084 - loss: 1.4725\n",
            "Epoch 64/200\n",
            "244/244 - 1s - 5ms/step - accuracy: 0.7174 - loss: 1.4378\n",
            "Epoch 65/200\n",
            "244/244 - 1s - 5ms/step - accuracy: 0.7225 - loss: 1.4038\n",
            "Epoch 66/200\n",
            "244/244 - 1s - 5ms/step - accuracy: 0.7272 - loss: 1.3722\n",
            "Epoch 67/200\n",
            "244/244 - 1s - 5ms/step - accuracy: 0.7334 - loss: 1.3420\n",
            "Epoch 68/200\n",
            "244/244 - 1s - 5ms/step - accuracy: 0.7429 - loss: 1.3070\n",
            "Epoch 69/200\n",
            "244/244 - 1s - 5ms/step - accuracy: 0.7478 - loss: 1.2757\n",
            "Epoch 70/200\n",
            "244/244 - 1s - 5ms/step - accuracy: 0.7545 - loss: 1.2477\n",
            "Epoch 71/200\n",
            "244/244 - 2s - 7ms/step - accuracy: 0.7589 - loss: 1.2176\n",
            "Epoch 72/200\n",
            "244/244 - 2s - 9ms/step - accuracy: 0.7675 - loss: 1.1895\n",
            "Epoch 73/200\n",
            "244/244 - 1s - 5ms/step - accuracy: 0.7709 - loss: 1.1624\n",
            "Epoch 74/200\n",
            "244/244 - 1s - 5ms/step - accuracy: 0.7788 - loss: 1.1338\n",
            "Epoch 75/200\n",
            "244/244 - 1s - 5ms/step - accuracy: 0.7841 - loss: 1.1048\n",
            "Epoch 76/200\n",
            "244/244 - 1s - 5ms/step - accuracy: 0.7859 - loss: 1.0810\n",
            "Epoch 77/200\n",
            "244/244 - 1s - 5ms/step - accuracy: 0.7897 - loss: 1.0568\n",
            "Epoch 78/200\n",
            "244/244 - 1s - 5ms/step - accuracy: 0.7966 - loss: 1.0339\n",
            "Epoch 79/200\n",
            "244/244 - 1s - 6ms/step - accuracy: 0.8023 - loss: 1.0111\n",
            "Epoch 80/200\n",
            "244/244 - 2s - 10ms/step - accuracy: 0.8039 - loss: 0.9862\n",
            "Epoch 81/200\n",
            "244/244 - 1s - 5ms/step - accuracy: 0.8142 - loss: 0.9620\n",
            "Epoch 82/200\n",
            "244/244 - 1s - 5ms/step - accuracy: 0.8155 - loss: 0.9418\n",
            "Epoch 83/200\n",
            "244/244 - 1s - 5ms/step - accuracy: 0.8217 - loss: 0.9199\n",
            "Epoch 84/200\n",
            "244/244 - 1s - 5ms/step - accuracy: 0.8255 - loss: 0.8972\n",
            "Epoch 85/200\n",
            "244/244 - 1s - 5ms/step - accuracy: 0.8266 - loss: 0.8797\n",
            "Epoch 86/200\n",
            "244/244 - 1s - 5ms/step - accuracy: 0.8358 - loss: 0.8583\n",
            "Epoch 87/200\n",
            "244/244 - 1s - 5ms/step - accuracy: 0.8369 - loss: 0.8386\n",
            "Epoch 88/200\n",
            "244/244 - 2s - 7ms/step - accuracy: 0.8408 - loss: 0.8221\n",
            "Epoch 89/200\n",
            "244/244 - 1s - 6ms/step - accuracy: 0.8470 - loss: 0.8037\n",
            "Epoch 90/200\n",
            "244/244 - 2s - 10ms/step - accuracy: 0.8479 - loss: 0.7853\n",
            "Epoch 91/200\n",
            "244/244 - 1s - 5ms/step - accuracy: 0.8519 - loss: 0.7663\n",
            "Epoch 92/200\n",
            "244/244 - 1s - 5ms/step - accuracy: 0.8534 - loss: 0.7494\n",
            "Epoch 93/200\n",
            "244/244 - 1s - 5ms/step - accuracy: 0.8581 - loss: 0.7342\n",
            "Epoch 94/200\n",
            "244/244 - 1s - 5ms/step - accuracy: 0.8595 - loss: 0.7180\n",
            "Epoch 95/200\n",
            "244/244 - 1s - 5ms/step - accuracy: 0.8652 - loss: 0.7017\n",
            "Epoch 96/200\n",
            "244/244 - 1s - 6ms/step - accuracy: 0.8654 - loss: 0.6882\n",
            "Epoch 97/200\n",
            "244/244 - 2s - 9ms/step - accuracy: 0.8697 - loss: 0.6731\n",
            "Epoch 98/200\n",
            "244/244 - 1s - 5ms/step - accuracy: 0.8702 - loss: 0.6585\n",
            "Epoch 99/200\n",
            "244/244 - 1s - 5ms/step - accuracy: 0.8734 - loss: 0.6437\n",
            "Epoch 100/200\n",
            "244/244 - 1s - 5ms/step - accuracy: 0.8788 - loss: 0.6295\n",
            "Epoch 101/200\n",
            "244/244 - 1s - 5ms/step - accuracy: 0.8793 - loss: 0.6160\n",
            "Epoch 102/200\n",
            "244/244 - 1s - 5ms/step - accuracy: 0.8808 - loss: 0.6030\n",
            "Epoch 103/200\n",
            "244/244 - 1s - 5ms/step - accuracy: 0.8834 - loss: 0.5917\n",
            "Epoch 104/200\n",
            "244/244 - 1s - 5ms/step - accuracy: 0.8838 - loss: 0.5813\n",
            "Epoch 105/200\n",
            "244/244 - 2s - 10ms/step - accuracy: 0.8872 - loss: 0.5683\n",
            "Epoch 106/200\n",
            "244/244 - 1s - 5ms/step - accuracy: 0.8900 - loss: 0.5546\n",
            "Epoch 107/200\n",
            "244/244 - 1s - 5ms/step - accuracy: 0.8915 - loss: 0.5447\n",
            "Epoch 108/200\n",
            "244/244 - 1s - 5ms/step - accuracy: 0.8932 - loss: 0.5339\n",
            "Epoch 109/200\n",
            "244/244 - 1s - 5ms/step - accuracy: 0.8959 - loss: 0.5232\n",
            "Epoch 110/200\n",
            "244/244 - 1s - 5ms/step - accuracy: 0.8972 - loss: 0.5135\n",
            "Epoch 111/200\n",
            "244/244 - 1s - 5ms/step - accuracy: 0.8995 - loss: 0.5039\n",
            "Epoch 112/200\n",
            "244/244 - 1s - 5ms/step - accuracy: 0.8997 - loss: 0.4966\n",
            "Epoch 113/200\n",
            "244/244 - 2s - 7ms/step - accuracy: 0.9011 - loss: 0.4851\n",
            "Epoch 114/200\n",
            "244/244 - 2s - 9ms/step - accuracy: 0.9004 - loss: 0.4757\n",
            "Epoch 115/200\n",
            "244/244 - 1s - 5ms/step - accuracy: 0.9029 - loss: 0.4685\n",
            "Epoch 116/200\n",
            "244/244 - 1s - 5ms/step - accuracy: 0.9035 - loss: 0.4583\n",
            "Epoch 117/200\n",
            "244/244 - 1s - 5ms/step - accuracy: 0.9052 - loss: 0.4498\n",
            "Epoch 118/200\n",
            "244/244 - 1s - 5ms/step - accuracy: 0.9054 - loss: 0.4419\n",
            "Epoch 119/200\n",
            "244/244 - 1s - 5ms/step - accuracy: 0.9064 - loss: 0.4365\n",
            "Epoch 120/200\n",
            "244/244 - 1s - 5ms/step - accuracy: 0.9071 - loss: 0.4287\n",
            "Epoch 121/200\n",
            "244/244 - 1s - 5ms/step - accuracy: 0.9076 - loss: 0.4257\n",
            "Epoch 122/200\n",
            "244/244 - 2s - 10ms/step - accuracy: 0.9091 - loss: 0.4197\n",
            "Epoch 123/200\n",
            "244/244 - 1s - 5ms/step - accuracy: 0.9088 - loss: 0.4064\n",
            "Epoch 124/200\n",
            "244/244 - 1s - 5ms/step - accuracy: 0.9088 - loss: 0.4064\n",
            "Epoch 125/200\n",
            "244/244 - 1s - 5ms/step - accuracy: 0.9126 - loss: 0.3947\n",
            "Epoch 126/200\n",
            "244/244 - 1s - 5ms/step - accuracy: 0.9120 - loss: 0.3872\n",
            "Epoch 127/200\n",
            "244/244 - 1s - 5ms/step - accuracy: 0.9125 - loss: 0.3828\n",
            "Epoch 128/200\n",
            "244/244 - 1s - 5ms/step - accuracy: 0.9108 - loss: 0.3782\n",
            "Epoch 129/200\n",
            "244/244 - 1s - 5ms/step - accuracy: 0.9117 - loss: 0.3748\n",
            "Epoch 130/200\n",
            "244/244 - 2s - 7ms/step - accuracy: 0.9132 - loss: 0.3717\n",
            "Epoch 131/200\n",
            "244/244 - 2s - 6ms/step - accuracy: 0.9103 - loss: 0.3851\n",
            "Epoch 132/200\n",
            "244/244 - 2s - 9ms/step - accuracy: 0.9125 - loss: 0.3692\n",
            "Epoch 133/200\n",
            "244/244 - 1s - 5ms/step - accuracy: 0.9140 - loss: 0.3559\n",
            "Epoch 134/200\n",
            "244/244 - 1s - 5ms/step - accuracy: 0.9143 - loss: 0.3491\n",
            "Epoch 135/200\n",
            "244/244 - 1s - 5ms/step - accuracy: 0.9136 - loss: 0.3462\n",
            "Epoch 136/200\n",
            "244/244 - 1s - 5ms/step - accuracy: 0.9158 - loss: 0.3423\n",
            "Epoch 137/200\n",
            "244/244 - 1s - 5ms/step - accuracy: 0.9152 - loss: 0.3381\n",
            "Epoch 138/200\n",
            "244/244 - 1s - 6ms/step - accuracy: 0.9145 - loss: 0.3355\n",
            "Epoch 139/200\n",
            "244/244 - 2s - 10ms/step - accuracy: 0.9157 - loss: 0.3327\n",
            "Epoch 140/200\n",
            "244/244 - 1s - 5ms/step - accuracy: 0.9163 - loss: 0.3296\n",
            "Epoch 141/200\n",
            "244/244 - 1s - 5ms/step - accuracy: 0.9155 - loss: 0.3273\n",
            "Epoch 142/200\n",
            "244/244 - 1s - 5ms/step - accuracy: 0.9158 - loss: 0.3230\n",
            "Epoch 143/200\n",
            "244/244 - 1s - 5ms/step - accuracy: 0.9172 - loss: 0.3210\n",
            "Epoch 144/200\n",
            "244/244 - 1s - 5ms/step - accuracy: 0.9172 - loss: 0.3178\n",
            "Epoch 145/200\n",
            "244/244 - 1s - 5ms/step - accuracy: 0.9144 - loss: 0.3161\n",
            "Epoch 146/200\n",
            "244/244 - 1s - 5ms/step - accuracy: 0.9162 - loss: 0.3140\n",
            "Epoch 147/200\n",
            "244/244 - 2s - 7ms/step - accuracy: 0.9158 - loss: 0.3133\n",
            "Epoch 148/200\n",
            "244/244 - 2s - 9ms/step - accuracy: 0.9149 - loss: 0.3084\n",
            "Epoch 149/200\n",
            "244/244 - 1s - 5ms/step - accuracy: 0.9158 - loss: 0.3059\n",
            "Epoch 150/200\n",
            "244/244 - 1s - 5ms/step - accuracy: 0.9176 - loss: 0.3031\n",
            "Epoch 151/200\n",
            "244/244 - 1s - 5ms/step - accuracy: 0.9157 - loss: 0.3020\n",
            "Epoch 152/200\n",
            "244/244 - 1s - 5ms/step - accuracy: 0.9163 - loss: 0.3063\n",
            "Epoch 153/200\n",
            "244/244 - 1s - 5ms/step - accuracy: 0.9179 - loss: 0.2984\n",
            "Epoch 154/200\n",
            "244/244 - 1s - 5ms/step - accuracy: 0.9177 - loss: 0.2962\n",
            "Epoch 155/200\n",
            "244/244 - 1s - 6ms/step - accuracy: 0.9158 - loss: 0.2974\n",
            "Epoch 156/200\n",
            "244/244 - 2s - 7ms/step - accuracy: 0.9164 - loss: 0.2956\n",
            "Epoch 157/200\n",
            "244/244 - 2s - 8ms/step - accuracy: 0.9162 - loss: 0.2918\n",
            "Epoch 158/200\n",
            "244/244 - 1s - 5ms/step - accuracy: 0.9162 - loss: 0.2904\n",
            "Epoch 159/200\n",
            "244/244 - 1s - 5ms/step - accuracy: 0.9166 - loss: 0.2877\n",
            "Epoch 160/200\n",
            "244/244 - 1s - 5ms/step - accuracy: 0.9164 - loss: 0.2895\n",
            "Epoch 161/200\n",
            "244/244 - 1s - 5ms/step - accuracy: 0.9157 - loss: 0.2909\n",
            "Epoch 162/200\n",
            "244/244 - 1s - 5ms/step - accuracy: 0.9159 - loss: 0.2936\n",
            "Epoch 163/200\n",
            "244/244 - 1s - 5ms/step - accuracy: 0.9161 - loss: 0.2965\n",
            "Epoch 164/200\n",
            "244/244 - 2s - 6ms/step - accuracy: 0.9166 - loss: 0.2874\n",
            "Epoch 165/200\n",
            "244/244 - 2s - 9ms/step - accuracy: 0.9167 - loss: 0.2810\n",
            "Epoch 166/200\n",
            "244/244 - 1s - 5ms/step - accuracy: 0.9173 - loss: 0.2799\n",
            "Epoch 167/200\n",
            "244/244 - 1s - 5ms/step - accuracy: 0.9175 - loss: 0.2776\n",
            "Epoch 168/200\n",
            "244/244 - 1s - 5ms/step - accuracy: 0.9162 - loss: 0.2777\n",
            "Epoch 169/200\n",
            "244/244 - 1s - 5ms/step - accuracy: 0.9180 - loss: 0.2758\n",
            "Epoch 170/200\n",
            "244/244 - 1s - 5ms/step - accuracy: 0.9164 - loss: 0.2763\n",
            "Epoch 171/200\n",
            "244/244 - 1s - 5ms/step - accuracy: 0.9164 - loss: 0.2760\n",
            "Epoch 172/200\n",
            "244/244 - 1s - 5ms/step - accuracy: 0.9164 - loss: 0.2747\n",
            "Epoch 173/200\n",
            "244/244 - 2s - 7ms/step - accuracy: 0.9162 - loss: 0.2741\n",
            "Epoch 174/200\n",
            "244/244 - 1s - 6ms/step - accuracy: 0.9155 - loss: 0.2734\n",
            "Epoch 175/200\n",
            "244/244 - 1s - 5ms/step - accuracy: 0.9157 - loss: 0.2728\n",
            "Epoch 176/200\n",
            "244/244 - 1s - 5ms/step - accuracy: 0.9161 - loss: 0.2741\n",
            "Epoch 177/200\n",
            "244/244 - 1s - 5ms/step - accuracy: 0.9173 - loss: 0.2723\n",
            "Epoch 178/200\n",
            "244/244 - 1s - 5ms/step - accuracy: 0.9166 - loss: 0.2728\n",
            "Epoch 179/200\n",
            "244/244 - 1s - 5ms/step - accuracy: 0.9116 - loss: 0.3000\n",
            "Epoch 180/200\n",
            "244/244 - 1s - 5ms/step - accuracy: 0.9138 - loss: 0.2875\n",
            "Epoch 181/200\n",
            "244/244 - 1s - 5ms/step - accuracy: 0.9172 - loss: 0.2714\n",
            "Epoch 182/200\n",
            "244/244 - 2s - 6ms/step - accuracy: 0.9191 - loss: 0.2681\n",
            "Epoch 183/200\n",
            "244/244 - 2s - 9ms/step - accuracy: 0.9187 - loss: 0.2663\n",
            "Epoch 184/200\n",
            "244/244 - 1s - 5ms/step - accuracy: 0.9162 - loss: 0.2667\n",
            "Epoch 185/200\n",
            "244/244 - 1s - 5ms/step - accuracy: 0.9177 - loss: 0.2653\n",
            "Epoch 186/200\n",
            "244/244 - 1s - 5ms/step - accuracy: 0.9171 - loss: 0.2649\n",
            "Epoch 187/200\n",
            "244/244 - 1s - 5ms/step - accuracy: 0.9157 - loss: 0.2650\n",
            "Epoch 188/200\n",
            "244/244 - 1s - 6ms/step - accuracy: 0.9164 - loss: 0.2654\n",
            "Epoch 189/200\n",
            "244/244 - 3s - 10ms/step - accuracy: 0.9167 - loss: 0.2650\n",
            "Epoch 190/200\n",
            "244/244 - 2s - 10ms/step - accuracy: 0.9167 - loss: 0.2648\n",
            "Epoch 191/200\n",
            "244/244 - 1s - 5ms/step - accuracy: 0.9170 - loss: 0.2636\n",
            "Epoch 192/200\n",
            "244/244 - 1s - 5ms/step - accuracy: 0.9158 - loss: 0.2637\n",
            "Epoch 193/200\n",
            "244/244 - 1s - 5ms/step - accuracy: 0.9159 - loss: 0.2648\n",
            "Epoch 194/200\n",
            "244/244 - 1s - 5ms/step - accuracy: 0.9161 - loss: 0.2679\n",
            "Epoch 195/200\n",
            "244/244 - 1s - 5ms/step - accuracy: 0.9105 - loss: 0.2978\n",
            "Epoch 196/200\n",
            "244/244 - 1s - 5ms/step - accuracy: 0.9141 - loss: 0.2768\n",
            "Epoch 197/200\n",
            "244/244 - 1s - 5ms/step - accuracy: 0.9162 - loss: 0.2653\n",
            "Epoch 198/200\n",
            "244/244 - 2s - 7ms/step - accuracy: 0.9161 - loss: 0.2631\n",
            "Epoch 199/200\n",
            "244/244 - 1s - 6ms/step - accuracy: 0.9164 - loss: 0.2611\n",
            "Epoch 200/200\n",
            "244/244 - 1s - 5ms/step - accuracy: 0.9171 - loss: 0.2610\n"
          ]
        },
        {
          "output_type": "execute_result",
          "data": {
            "text/plain": [
              "<keras.src.callbacks.history.History at 0x7dd65a566860>"
            ]
          },
          "metadata": {},
          "execution_count": 41
        }
      ]
    },
    {
      "cell_type": "code",
      "metadata": {
        "id": "J6Lqo_uRIq2X"
      },
      "source": [
        "def sentence_generation(model, tokenizer, current_word, n): # 모델, 토크나이저, 현재 단어, 반복할 횟수\n",
        "    init_word = current_word\n",
        "    sentence = ''\n",
        "\n",
        "    # n번 반복\n",
        "    for _ in range(n):\n",
        "        encoded = tokenizer.texts_to_sequences([current_word])[0]\n",
        "        encoded = pad_sequences([encoded], maxlen=max_len-1, padding='pre')\n",
        "\n",
        "        # 입력한 X(현재 단어)에 대해서 y를 예측하고 y(예측한 단어)를 result에 저장.\n",
        "        result = model.predict(encoded, verbose=0)\n",
        "        result = np.argmax(result, axis=1)\n",
        "\n",
        "        for word, index in tokenizer.word_index.items():\n",
        "            # 만약 예측한 단어와 인덱스와 동일한 단어가 있다면\n",
        "            if index == result:\n",
        "                break\n",
        "\n",
        "        # 현재 단어 + ' ' + 예측 단어를 현재 단어로 변경\n",
        "        current_word = current_word + ' '  + word\n",
        "\n",
        "        # 예측 단어를 문장에 저장\n",
        "        sentence = sentence + ' ' + word\n",
        "\n",
        "    sentence = init_word + sentence\n",
        "    return sentence"
      ],
      "execution_count": 42,
      "outputs": []
    },
    {
      "cell_type": "code",
      "metadata": {
        "colab": {
          "base_uri": "https://localhost:8080/"
        },
        "id": "uAfJZAD4JIUM",
        "outputId": "43ee32b1-9a90-4c4c-e011-d8ee60d5488a"
      },
      "source": [
        "print(sentence_generation(model, tokenizer, 'i', 10))"
      ],
      "execution_count": 43,
      "outputs": [
        {
          "output_type": "stream",
          "name": "stdout",
          "text": [
            "i want to be rich and im not sorry attack bereaved\n"
          ]
        }
      ]
    },
    {
      "cell_type": "code",
      "metadata": {
        "colab": {
          "base_uri": "https://localhost:8080/"
        },
        "id": "JeXp2oTZJLiS",
        "outputId": "b94b0333-7c94-4b48-d124-c7918d5808dd"
      },
      "source": [
        "print(sentence_generation(model, tokenizer, 'how', 10))"
      ],
      "execution_count": 44,
      "outputs": [
        {
          "output_type": "stream",
          "name": "stdout",
          "text": [
            "how to make facebook more accountable guns live to gop calling\n"
          ]
        }
      ]
    }
  ]
}